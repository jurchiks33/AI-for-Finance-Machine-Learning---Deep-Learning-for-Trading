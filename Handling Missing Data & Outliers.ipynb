{
 "cells": [
  {
   "cell_type": "markdown",
   "id": "c97d054f-5465-404e-8af0-4153d49262a7",
   "metadata": {},
   "source": [
    "# Create a simple dataset with intentional missing values"
   ]
  },
  {
   "cell_type": "code",
   "execution_count": 1,
   "id": "6014165b-a14e-4aab-b70a-8248952132e2",
   "metadata": {},
   "outputs": [
    {
     "name": "stdout",
     "output_type": "stream",
     "text": [
      "     A    B    C\n",
      "0  1.0  NaN  1.0\n",
      "1  2.0  2.0  2.0\n",
      "2  NaN  3.0  NaN\n",
      "3  4.0  4.0  4.0\n"
     ]
    }
   ],
   "source": [
    "import pandas as pd\n",
    "import numpy as np\n",
    "\n",
    "# Create an example DataFrame with missing data\n",
    "data = {'A': [1, 2, None, 4],\n",
    "        'B': [None, 2, 3, 4],\n",
    "        'C': [1, 2, None, 4]}\n",
    "df = pd.DataFrame(data)\n",
    "print(df)"
   ]
  },
  {
   "cell_type": "markdown",
   "id": "44c4116b-3b46-43af-b3b9-6d60d7f03b6c",
   "metadata": {},
   "source": [
    "# Checking for Missing Data"
   ]
  },
  {
   "cell_type": "code",
   "execution_count": 2,
   "id": "a598e2f9-0321-43d0-b10b-c51deb38ce96",
   "metadata": {},
   "outputs": [
    {
     "name": "stdout",
     "output_type": "stream",
     "text": [
      "A    1\n",
      "B    1\n",
      "C    1\n",
      "dtype: int64\n"
     ]
    }
   ],
   "source": [
    "print(df.isnull().sum())"
   ]
  },
  {
   "cell_type": "markdown",
   "id": "58194c6f-f82a-4854-a252-60a4a9a664a2",
   "metadata": {},
   "source": [
    "# Filling Missing Data"
   ]
  },
  {
   "cell_type": "code",
   "execution_count": 3,
   "id": "946fe95b-63cc-49bf-9fc1-711b2caf7a95",
   "metadata": {},
   "outputs": [
    {
     "name": "stdout",
     "output_type": "stream",
     "text": [
      "          A    B         C\n",
      "0  1.000000  3.0  1.000000\n",
      "1  2.000000  2.0  2.000000\n",
      "2  2.333333  3.0  2.333333\n",
      "3  4.000000  4.0  4.000000\n"
     ]
    }
   ],
   "source": [
    "# Fill missing values with column mean\n",
    "df_filled = df.fillna(df.mean())\n",
    "print(df_filled)"
   ]
  },
  {
   "cell_type": "markdown",
   "id": "e6bcffe0-dcf2-47a0-a5ae-629f05f559ee",
   "metadata": {},
   "source": [
    "# Dropping Missing Data"
   ]
  },
  {
   "cell_type": "code",
   "execution_count": 4,
   "id": "4e14ff05-0427-4020-945e-084738693d5f",
   "metadata": {},
   "outputs": [
    {
     "name": "stdout",
     "output_type": "stream",
     "text": [
      "     A    B    C\n",
      "1  2.0  2.0  2.0\n",
      "3  4.0  4.0  4.0\n"
     ]
    }
   ],
   "source": [
    "# Remove rows with missing data\n",
    "df_dropped = df.dropna()\n",
    "print(df_dropped)"
   ]
  },
  {
   "cell_type": "markdown",
   "id": "3d3fae9a-018d-4e8f-a63a-c246f6de6ab4",
   "metadata": {},
   "source": [
    "# Identifying Outliers Using Z-Score"
   ]
  },
  {
   "cell_type": "code",
   "execution_count": 5,
   "id": "001354bf-1316-486c-8cc7-6490874d96db",
   "metadata": {},
   "outputs": [
    {
     "name": "stdout",
     "output_type": "stream",
     "text": [
      "[-0.49173134 -0.44214499 -0.44214499 -0.41735181 -0.44214499  2.2355181 ]\n"
     ]
    }
   ],
   "source": [
    "from scipy import stats\n",
    "\n",
    "# Dataset with an outlier\n",
    "data = [10, 12, 12, 13, 12, 120]\n",
    "z_scores = stats.zscore(data)\n",
    "print(z_scores)"
   ]
  },
  {
   "cell_type": "markdown",
   "id": "0da2c07b-e9c4-4dd6-b646-57d5883479b2",
   "metadata": {},
   "source": [
    "# Identifying Outliers Using IQR"
   ]
  },
  {
   "cell_type": "code",
   "execution_count": 6,
   "id": "c9c5a7c9-26aa-420b-a2ed-15241dadfde6",
   "metadata": {},
   "outputs": [
    {
     "name": "stdout",
     "output_type": "stream",
     "text": [
      "10.875 13.875\n"
     ]
    }
   ],
   "source": [
    "Q1 = np.percentile(data, 25)\n",
    "Q3 = np.percentile(data, 75)\n",
    "IQR = Q3 - Q1\n",
    "lower_bound = Q1 - 1.5 * IQR\n",
    "upper_bound = Q3 + 1.5 * IQR\n",
    "print(lower_bound, upper_bound)"
   ]
  },
  {
   "cell_type": "markdown",
   "id": "a88ff8b5-7625-4da6-a1c3-cf9a81d55dec",
   "metadata": {},
   "source": [
    "# Removing Outliers Using Z-score"
   ]
  },
  {
   "cell_type": "code",
   "execution_count": 7,
   "id": "d41362af-0d00-46b4-9c5c-d17718f82f53",
   "metadata": {},
   "outputs": [
    {
     "name": "stdout",
     "output_type": "stream",
     "text": [
      "[10, 12, 12, 13, 12, 120]\n"
     ]
    }
   ],
   "source": [
    "filtered_data = [d for d, z in zip(data, z_scores) if np.abs(z) < 3]\n",
    "print(filtered_data)"
   ]
  },
  {
   "cell_type": "markdown",
   "id": "f19e939b-5a24-4e7e-b3e0-6c8b29ba178a",
   "metadata": {},
   "source": [
    "# Real-World Example: Financial Data"
   ]
  },
  {
   "cell_type": "code",
   "execution_count": 8,
   "id": "ce8fcc0d-f2d8-4aac-b7cd-10a3258fa140",
   "metadata": {},
   "outputs": [
    {
     "name": "stdout",
     "output_type": "stream",
     "text": [
      "YF.download() has changed argument auto_adjust default to True\n"
     ]
    },
    {
     "name": "stderr",
     "output_type": "stream",
     "text": [
      "[*********************100%***********************]  1 of 1 completed"
     ]
    },
    {
     "name": "stdout",
     "output_type": "stream",
     "text": [
      "Price           Close       High        Low       Open     Volume   Returns  \\\n",
      "Ticker           TSLA       TSLA       TSLA       TSLA       TSLA             \n",
      "Date                                                                          \n",
      "2020-01-03  29.534000  30.266666  29.128000  29.366667  266677500  0.029633   \n",
      "2020-01-06  30.102667  30.104000  29.333332  29.364668  151995000  0.019255   \n",
      "2020-01-07  31.270666  31.441999  30.224001  30.760000  268231500  0.038801   \n",
      "2020-01-08  32.809334  33.232666  31.215334  31.580000  467164500  0.049205   \n",
      "2020-01-09  32.089333  33.253334  31.524668  33.139999  426606000 -0.021945   \n",
      "\n",
      "Price        z_score  \n",
      "Ticker                \n",
      "Date                  \n",
      "2020-01-03  0.619480  \n",
      "2020-01-06  0.377443  \n",
      "2020-01-07  0.833267  \n",
      "2020-01-08  1.075902  \n",
      "2020-01-09 -0.583362  \n",
      "Price            Close        High         Low        Open     Volume  \\\n",
      "Ticker            TSLA        TSLA        TSLA        TSLA       TSLA   \n",
      "Date                                                                    \n",
      "2023-12-22  252.539993  258.220001  251.369995  256.760010   93249800   \n",
      "2023-12-26  256.609985  257.970001  252.910004  254.490005   86892400   \n",
      "2023-12-27  261.440002  263.339996  257.519989  258.350006  106494400   \n",
      "2023-12-28  253.179993  265.130005  252.710007  263.660004  113619900   \n",
      "2023-12-29  248.479996  255.190002  247.429993  255.100006  100615300   \n",
      "\n",
      "Price        Returns   z_score  \n",
      "Ticker                          \n",
      "Date                            \n",
      "2023-12-22 -0.007701 -0.251191  \n",
      "2023-12-26  0.016116  0.304253  \n",
      "2023-12-27  0.018822  0.367363  \n",
      "2023-12-28 -0.031594 -0.808389  \n",
      "2023-12-29 -0.018564 -0.504511  \n"
     ]
    },
    {
     "name": "stderr",
     "output_type": "stream",
     "text": [
      "\n"
     ]
    }
   ],
   "source": [
    "import yfinance as yf\n",
    "import pandas as pd\n",
    "from scipy import stats\n",
    "\n",
    "# Step 1: Download stock data for Tesla (TSLA)\n",
    "stock_data = yf.download('TSLA', start=\"2020-01-01\", end=\"2024-01-01\")\n",
    "\n",
    "# Step 1: Handle missing data by forward-filling previous values\n",
    "stock_data.ffill(inplace=True)\n",
    "\n",
    "# Step 2: Calculate daily returns\n",
    "stock_data['Returns'] = stock_data['Close'].pct_change()\n",
    "\n",
    "# Step 3: Compute z-scores of returns, omitting NaNs explicitly\n",
    "stock_data['z_score'] = stats.zscore(stock_data['Returns'], nan_policy='omit')\n",
    "\n",
    "# Step 4: Remove outliers (returns with |z_score| >= 3 are extreme outliers)\n",
    "clean_data = stock_data[stock_data['z_score'].abs() < 3]\n",
    "\n",
    "print(clean_data.head())\n",
    "print(clean_data.tail())\n",
    "\n"
   ]
  },
  {
   "cell_type": "code",
   "execution_count": null,
   "id": "60904e78-c590-47d6-9bcf-f4ffe1301137",
   "metadata": {},
   "outputs": [],
   "source": []
  }
 ],
 "metadata": {
  "kernelspec": {
   "display_name": "base",
   "language": "python",
   "name": "python3"
  },
  "language_info": {
   "codemirror_mode": {
    "name": "ipython",
    "version": 3
   },
   "file_extension": ".py",
   "mimetype": "text/x-python",
   "name": "python",
   "nbconvert_exporter": "python",
   "pygments_lexer": "ipython3",
   "version": "3.11.7"
  }
 },
 "nbformat": 4,
 "nbformat_minor": 5
}
