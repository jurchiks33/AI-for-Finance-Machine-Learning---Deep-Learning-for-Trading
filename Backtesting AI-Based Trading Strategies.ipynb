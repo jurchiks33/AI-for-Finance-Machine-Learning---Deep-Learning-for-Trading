{
 "cells": [
  {
   "cell_type": "markdown",
   "id": "797e9128-bafe-4d9c-a0bb-e776c8103eae",
   "metadata": {},
   "source": [
    "# Data Acquisition from Yahoo Finance"
   ]
  },
  {
   "cell_type": "code",
   "execution_count": 3,
   "id": "0751a112-0c54-41c3-9312-b23b325e7bc0",
   "metadata": {},
   "outputs": [
    {
     "name": "stderr",
     "output_type": "stream",
     "text": [
      "[*********************100%***********************]  1 of 1 completed"
     ]
    },
    {
     "name": "stdout",
     "output_type": "stream",
     "text": [
      "Price            Close        High         Low        Open    Volume\n",
      "Ticker            MSFT        MSFT        MSFT        MSFT      MSFT\n",
      "Date                                                                \n",
      "2024-12-24  438.450836  438.720315  433.321138  433.780209   7164500\n",
      "2024-12-26  437.233276  440.057630  435.756258  438.201337   8194200\n",
      "2024-12-27  429.668457  434.349074  425.496829  433.730320  18117700\n",
      "2024-12-30  423.979858  426.694417  421.055729  425.207408  13158700\n",
      "2024-12-31  420.656525  425.876070  419.818209  425.247326  13246500\n"
     ]
    },
    {
     "name": "stderr",
     "output_type": "stream",
     "text": [
      "\n"
     ]
    }
   ],
   "source": [
    "import yfinance as yf\n",
    "\n",
    "symbol = 'MSFT'\n",
    "data = yf.download(symbol, start='2020-01-01', end='2025-01-01')\n",
    "data.dropna(inplace=True)\n",
    "print(data.tail())"
   ]
  },
  {
   "cell_type": "markdown",
   "id": "62ee4902-17b2-464f-bb99-00ee65b087b7",
   "metadata": {},
   "source": [
    "# Preparing Data for Backtesting"
   ]
  },
  {
   "cell_type": "code",
   "execution_count": 5,
   "id": "ef477982-1768-4473-844d-0e5dc9263e4c",
   "metadata": {},
   "outputs": [
    {
     "name": "stdout",
     "output_type": "stream",
     "text": [
      "Price            Close        High         Low        Open    Volume   Returns\n",
      "Ticker            MSFT        MSFT        MSFT        MSFT      MSFT          \n",
      "Date                                                                          \n",
      "2024-12-24  438.450836  438.720315  433.321138  433.780209   7164500  0.009374\n",
      "2024-12-26  437.233276  440.057630  435.756258  438.201337   8194200 -0.002777\n",
      "2024-12-27  429.668457  434.349074  425.496829  433.730320  18117700 -0.017302\n",
      "2024-12-30  423.979858  426.694417  421.055729  425.207408  13158700 -0.013240\n",
      "2024-12-31  420.656525  425.876070  419.818209  425.247326  13246500 -0.007838\n"
     ]
    }
   ],
   "source": [
    "import pandas as pd\n",
    "\n",
    "data['Returns'] = data['Close'].pct_change()\n",
    "data.dropna(inplace=True)\n",
    "print(data.tail())"
   ]
  },
  {
   "cell_type": "markdown",
   "id": "d7569337-0925-464e-951f-68331e9fb630",
   "metadata": {},
   "source": [
    "# Implementing Backtesting using Python (Backtrader)"
   ]
  },
  {
   "cell_type": "code",
   "execution_count": 7,
   "id": "9af9d6a2-5c91-4dab-a568-7280d90dc8bf",
   "metadata": {},
   "outputs": [
    {
     "name": "stdout",
     "output_type": "stream",
     "text": [
      "Starting Portfolio Value: 10000.00\n",
      "BUY EXECUTED: 48 shares at 207.64\n",
      "SELL EXECUTED: -1 shares at 248.96\n",
      "Final Portfolio Value: 20053.33\n",
      "Total Trades Executed: 2\n"
     ]
    }
   ],
   "source": [
    "import backtrader as bt\n",
    "import pandas as pd\n",
    "\n",
    "# Flatten MultiIndex columns if needed\n",
    "if isinstance(data.columns, pd.MultiIndex):\n",
    "    data.columns = data.columns.get_level_values(0)\n",
    "\n",
    "class GoldenCrossStrategy(bt.Strategy):\n",
    "    def __init__(self):\n",
    "        self.sma_short = bt.indicators.SMA(self.datas[0].close, period=50)\n",
    "        self.sma_long = bt.indicators.SMA(self.datas[0].close, period=200)\n",
    "        self.buy_price = None\n",
    "        self.order = None\n",
    "        self.trade_count = 0\n",
    "\n",
    "    def notify_order(self, order):\n",
    "        if order.status in [order.Completed]:\n",
    "            if order.isbuy():\n",
    "                self.buy_price = order.executed.price\n",
    "                print(f\"BUY EXECUTED: {order.executed.size} shares at {self.buy_price:.2f}\")\n",
    "            elif order.issell():\n",
    "                print(f\"SELL EXECUTED: {order.executed.size} shares at {order.executed.price:.2f}\")\n",
    "                self.buy_price = None\n",
    "            self.order = None\n",
    "            self.trade_count += 1\n",
    "        elif order.status in [order.Canceled, order.Margin, order.Rejected]:\n",
    "            print(\"Order Canceled or Rejected\")\n",
    "            self.order = None\n",
    "\n",
    "    def next(self):\n",
    "        if len(self) < 201:  # Wait until indicators are ready\n",
    "            return\n",
    "\n",
    "        current_price = self.datas[0].close[0]\n",
    "\n",
    "        if self.order:\n",
    "            return\n",
    "\n",
    "        # Entry condition: SMA50 above SMA200\n",
    "        if not self.position and self.sma_short[0] > self.sma_long[0]:\n",
    "            size = int(self.broker.getcash() // current_price)\n",
    "            if size > 0:\n",
    "                self.order = self.buy(size=size)\n",
    "\n",
    "        # Exit conditions: Take profit, stop loss, or SMA reversal\n",
    "        elif self.position and self.buy_price:\n",
    "            take_profit_price = self.buy_price * 1.20\n",
    "            stop_loss_price = self.buy_price * 0.90\n",
    "\n",
    "            if current_price >= take_profit_price:\n",
    "                self.order = self.sell()\n",
    "            elif current_price <= stop_loss_price:\n",
    "                self.order = self.sell()\n",
    "            elif self.sma_short[0] < self.sma_long[0]:\n",
    "                self.order = self.sell()\n",
    "\n",
    "# Backtrader setup\n",
    "cerebro = bt.Cerebro()\n",
    "cerebro.addstrategy(GoldenCrossStrategy)\n",
    "\n",
    "data_feed = bt.feeds.PandasData(dataname=data)\n",
    "cerebro.adddata(data_feed)\n",
    "\n",
    "cerebro.broker.setcash(10000)\n",
    "print('Starting Portfolio Value: %.2f' % cerebro.broker.getvalue())\n",
    "results = cerebro.run()\n",
    "print('Final Portfolio Value: %.2f' % cerebro.broker.getvalue())\n",
    "print(f\"Total Trades Executed: {results[0].trade_count}\")\n"
   ]
  },
  {
   "cell_type": "markdown",
   "id": "99f6884c-01f8-415e-9fd6-d1bd47d225a7",
   "metadata": {},
   "source": [
    "# Analyzing Backtesting Results"
   ]
  },
  {
   "cell_type": "code",
   "execution_count": 9,
   "id": "8dedcff0-bd85-47db-8c9f-e7a4ff70b602",
   "metadata": {},
   "outputs": [
    {
     "name": "stdout",
     "output_type": "stream",
     "text": [
      "Total Return: 100.53%\n"
     ]
    }
   ],
   "source": [
    "print(f\"Total Return: {(cerebro.broker.getvalue() - 10000) / 10000 * 100:.2f}%\")"
   ]
  }
 ],
 "metadata": {
  "kernelspec": {
   "display_name": "Python (TensorFlow)",
   "language": "python",
   "name": "tensorflow-env"
  },
  "language_info": {
   "codemirror_mode": {
    "name": "ipython",
    "version": 3
   },
   "file_extension": ".py",
   "mimetype": "text/x-python",
   "name": "python",
   "nbconvert_exporter": "python",
   "pygments_lexer": "ipython3",
   "version": "3.10.16"
  }
 },
 "nbformat": 4,
 "nbformat_minor": 5
}
