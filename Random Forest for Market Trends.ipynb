{
 "cells": [
  {
   "cell_type": "markdown",
   "id": "a2f59d3c-aa05-4846-8f22-7beca1c81f02",
   "metadata": {},
   "source": [
    "# Basic Random Forest for Market Trend Prediction"
   ]
  },
  {
   "cell_type": "code",
   "execution_count": 4,
   "id": "508b8f8d-2dab-4ee2-be41-0a010a1f0b50",
   "metadata": {},
   "outputs": [
    {
     "name": "stderr",
     "output_type": "stream",
     "text": [
      "[*********************100%***********************]  1 of 1 completed\n"
     ]
    },
    {
     "name": "stdout",
     "output_type": "stream",
     "text": [
      "Basic Random Forest Accuracy: 0.4672131147540984\n",
      "Classification Report:\n",
      "               precision    recall  f1-score   support\n",
      "\n",
      "     bearish       0.49      0.42      0.45        64\n",
      "     bullish       0.45      0.52      0.48        58\n",
      "\n",
      "    accuracy                           0.47       122\n",
      "   macro avg       0.47      0.47      0.47       122\n",
      "weighted avg       0.47      0.47      0.47       122\n",
      "\n"
     ]
    }
   ],
   "source": [
    "import yfinance as yf\n",
    "import pandas as pd\n",
    "import numpy as np\n",
    "from sklearn.ensemble import RandomForestClassifier\n",
    "from sklearn.model_selection import train_test_split\n",
    "from sklearn.metrics import accuracy_score, classification_report\n",
    "\n",
    "# Download data\n",
    "ticker = \"AAPL\"\n",
    "data = yf.download(ticker, start=\"2020-01-01\", end=\"2022-01-01\")\n",
    "\n",
    "# Use 'Adj Close' if available, else fallback to 'Close'\n",
    "price_col = 'Adj Close' if 'Adj Close' in data.columns else 'Close'\n",
    "\n",
    "# Check if your chosen price_col exists to be safe\n",
    "if price_col not in data.columns:\n",
    "    raise ValueError(f\"{price_col} is not in dataframe columns {data.columns}\")\n",
    "\n",
    "# Feature engineering\n",
    "data['Return'] = data[price_col].pct_change()\n",
    "data['MA20'] = data[price_col].rolling(window=20).mean()\n",
    "data['Volatility'] = data['Return'].rolling(window=20).std()\n",
    "\n",
    "data.dropna(inplace=True)\n",
    "\n",
    "# Define trend labels\n",
    "data['Trend'] = np.where(data['Return'] > 0, 'bullish', 'bearish')\n",
    "\n",
    "# Features and labels\n",
    "features = ['MA20', 'Volatility']\n",
    "X = data[features]\n",
    "y = data['Trend']\n",
    "\n",
    "# Train-test split\n",
    "X_train, X_test, y_train, y_test = train_test_split(X, y, test_size=0.25, random_state=42)\n",
    "\n",
    "# Random forest classifier\n",
    "rf = RandomForestClassifier(n_estimators=100, random_state=42)\n",
    "rf.fit(X_train, y_train)\n",
    "\n",
    "# Predictions and evaluation\n",
    "predictions = rf.predict(X_test)\n",
    "print(\"Basic Random Forest Accuracy:\", accuracy_score(y_test, predictions))\n",
    "print(\"Classification Report:\\n\", classification_report(y_test, predictions))\n"
   ]
  },
  {
   "cell_type": "markdown",
   "id": "fefd56ce-bfce-44f1-be56-dc4d233922a3",
   "metadata": {},
   "source": [
    "# Advanced Random Forest Techniques"
   ]
  },
  {
   "cell_type": "code",
   "execution_count": 6,
   "id": "6691d685-0bee-4439-98b1-a9f36fa38148",
   "metadata": {},
   "outputs": [
    {
     "name": "stdout",
     "output_type": "stream",
     "text": [
      "Best Hyperparameters: {'max_depth': 20, 'min_samples_leaf': 1, 'min_samples_split': 10, 'n_estimators': 100}\n",
      "Advanced Random Forest Accuracy: 0.4426229508196721\n",
      "Advanced Classification Report:\n",
      "               precision    recall  f1-score   support\n",
      "\n",
      "     bearish       0.46      0.34      0.39        64\n",
      "     bullish       0.43      0.55      0.48        58\n",
      "\n",
      "    accuracy                           0.44       122\n",
      "   macro avg       0.45      0.45      0.44       122\n",
      "weighted avg       0.45      0.44      0.44       122\n",
      "\n",
      "Feature Importances:\n",
      " Volatility    0.521065\n",
      "MA20          0.478935\n",
      "dtype: float64\n"
     ]
    }
   ],
   "source": [
    "# Import additional libraries for advanced tuning\n",
    "from sklearn.model_selection import GridSearchCV\n",
    "from sklearn.metrics import make_scorer\n",
    "\n",
    "# Define parameter grid for hyperparameter tuning\n",
    "param_grid = {\n",
    "    'n_estimators': [100, 200, 300],\n",
    "    'max_depth': [None, 10, 20, 30],\n",
    "    'min_samples_split': [2, 5, 10],\n",
    "    'min_samples_leaf': [1, 2, 4]\n",
    "}\n",
    "\n",
    "# Setup GridSearchCV with accuracy as the scoring metric\n",
    "grid_search = GridSearchCV(\n",
    "    estimator=RandomForestClassifier(random_state=42),\n",
    "    param_grid=param_grid,\n",
    "    cv=5,\n",
    "    scoring=make_scorer(accuracy_score)\n",
    ")\n",
    "grid_search.fit(X_train, y_train)\n",
    "\n",
    "# Retrieve the best estimator\n",
    "best_rf = grid_search.best_estimator_\n",
    "print(\"Best Hyperparameters:\", grid_search.best_params_)\n",
    "\n",
    "# Evaluate the tuned model\n",
    "predictions_advanced = best_rf.predict(X_test)\n",
    "accuracy_advanced = accuracy_score(y_test, predictions_advanced)\n",
    "print(\"Advanced Random Forest Accuracy:\", accuracy_advanced)\n",
    "print(\"Advanced Classification Report:\\n\", classification_report(y_test, predictions_advanced))\n",
    "\n",
    "# Analyze feature importance\n",
    "feature_importances = pd.Series(best_rf.feature_importances_, index=features)\n",
    "print(\"Feature Importances:\\n\", feature_importances.sort_values(ascending=False))\n"
   ]
  }
 ],
 "metadata": {
  "kernelspec": {
   "display_name": "Python (TensorFlow)",
   "language": "python",
   "name": "tensorflow-env"
  },
  "language_info": {
   "codemirror_mode": {
    "name": "ipython",
    "version": 3
   },
   "file_extension": ".py",
   "mimetype": "text/x-python",
   "name": "python",
   "nbconvert_exporter": "python",
   "pygments_lexer": "ipython3",
   "version": "3.10.16"
  }
 },
 "nbformat": 4,
 "nbformat_minor": 5
}
