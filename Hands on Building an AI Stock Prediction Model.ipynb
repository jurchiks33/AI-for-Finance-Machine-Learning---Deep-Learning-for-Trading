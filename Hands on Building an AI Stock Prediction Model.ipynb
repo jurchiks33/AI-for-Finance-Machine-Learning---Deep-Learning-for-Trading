{
 "cells": [
  {
   "cell_type": "markdown",
   "id": "dbabc473-5a42-42d9-9c23-14ba2a5d8ca1",
   "metadata": {},
   "source": [
    "# Step 1: Data Acquisition"
   ]
  },
  {
   "cell_type": "code",
   "execution_count": 11,
   "id": "6e9f6e78-5b0e-414e-ae1b-ebbced82dfe5",
   "metadata": {},
   "outputs": [
    {
     "name": "stderr",
     "output_type": "stream",
     "text": [
      "[*********************100%***********************]  1 of 1 completed"
     ]
    },
    {
     "name": "stdout",
     "output_type": "stream",
     "text": [
      "Price           Close       High        Low       Open     Volume\n",
      "Ticker           AAPL       AAPL       AAPL       AAPL       AAPL\n",
      "Date                                                             \n",
      "2020-01-02  72.716087  72.776613  71.466827  71.721034  135480400\n",
      "2020-01-03  72.009125  72.771752  71.783969  71.941336  146322800\n",
      "2020-01-06  72.582924  72.621661  70.876090  71.127881  118387200\n",
      "2020-01-07  72.241524  72.849201  72.021208  72.592571  108872000\n",
      "2020-01-08  73.403648  73.706279  71.943759  71.943759  132079200\n"
     ]
    },
    {
     "name": "stderr",
     "output_type": "stream",
     "text": [
      "\n"
     ]
    }
   ],
   "source": [
    "import yfinance as yf\n",
    "import pandas as pd\n",
    "\n",
    "# Download historical stock data for Apple\n",
    "stock_data = yf.download('AAPL', start='2020-01-01', end='2025-01-01')\n",
    "\n",
    "# Inspect the first few rows\n",
    "print(stock_data.head())"
   ]
  },
  {
   "cell_type": "markdown",
   "id": "f5a0570b-d09a-4864-867c-10099e288437",
   "metadata": {},
   "source": [
    "# Step 2: Feature Engineering "
   ]
  },
  {
   "cell_type": "code",
   "execution_count": 25,
   "id": "2ec3d7e7-1a38-4603-aea6-6f14e8022c50",
   "metadata": {},
   "outputs": [
    {
     "name": "stdout",
     "output_type": "stream",
     "text": [
      "Price            Close        High         Low        Open    Volume  \\\n",
      "Ticker            AAPL        AAPL        AAPL        AAPL      AAPL   \n",
      "Date                                                                   \n",
      "2024-12-23  254.989655  255.369227  253.171646  254.490204  40858800   \n",
      "2024-12-24  257.916443  257.926411  255.009620  255.209412  23234700   \n",
      "2024-12-26  258.735504  259.814335  257.347047  257.906429  27237100   \n",
      "2024-12-27  255.309296  258.415896  252.782075  257.546826  42355300   \n",
      "2024-12-30  251.923019  253.221595  250.474615  251.952985  35557500   \n",
      "\n",
      "Price      Daily Return        MA20        MA50 Volatility    Tomorrow Trend  \n",
      "Ticker                                                                        \n",
      "Date                                                                          \n",
      "2024-12-23     0.003065  244.757892  235.021529   0.008893  257.916443     1  \n",
      "2024-12-24     0.011478  246.023002  235.564016   0.008828  258.735504     1  \n",
      "2024-12-26     0.003176  247.219685  236.071997   0.008782  255.309296     0  \n",
      "2024-12-27    -0.013242  248.251551  236.552763   0.009615  251.923019     0  \n",
      "2024-12-30    -0.013263  248.994234  236.958420   0.010262  250.144974     0  \n"
     ]
    }
   ],
   "source": [
    "# Extract correct column name dynamically from 'Close AAPL' style\n",
    "close_column = [col for col in stock_data.columns if 'Close' in col][0]\n",
    "\n",
    "# Calculate daily returns\n",
    "stock_data['Daily Return'] = stock_data[close_column].pct_change()\n",
    "\n",
    "# Calculate moving averages\n",
    "stock_data['MA20'] = stock_data[close_column].rolling(window=20).mean()\n",
    "stock_data['MA50'] = stock_data[close_column].rolling(window=50).mean()\n",
    "\n",
    "# Calculate volatility (standard deviation of returns)\n",
    "stock_data['Volatility'] = stock_data['Daily Return'].rolling(window=20).std()\n",
    "\n",
    "# Drop rows with missing values\n",
    "stock_data.dropna(inplace=True)\n",
    "\n",
    "# Display the enriched dataset\n",
    "print(stock_data.tail())\n"
   ]
  },
  {
   "cell_type": "markdown",
   "id": "d64962b6-f8f1-4e39-a93d-5576edcdfa34",
   "metadata": {},
   "source": [
    "# Step 3: Preparing Data for Modeling"
   ]
  },
  {
   "cell_type": "code",
   "execution_count": 27,
   "id": "096a9f3f-84ad-48ec-8531-8ba2c4d4a3f6",
   "metadata": {},
   "outputs": [],
   "source": [
    "import numpy as np\n",
    "\n",
    "# Extract close column name\n",
    "close_column = [col for col in stock_data.columns if 'Close' in col][0]\n",
    "\n",
    "# Create the target variable based on next-day price movement\n",
    "stock_data['Tomorrow'] = stock_data[close_column].shift(-1)\n",
    "stock_data['Trend'] = np.where(stock_data['Tomorrow'] > stock_data[close_column], 1, 0)\n",
    "\n",
    "# Define features and target\n",
    "features = ['MA20', 'MA50', 'Volatility', 'Daily Return']\n",
    "X = stock_data[features]\n",
    "y = stock_data['Trend']\n",
    "\n",
    "# Split data into training and testing datasets\n",
    "from sklearn.model_selection import train_test_split\n",
    "X_train, X_test, y_train, y_test = train_test_split(X, y, test_size=0.3, random_state=42, shuffle=False)\n"
   ]
  },
  {
   "cell_type": "markdown",
   "id": "4436a436-c0a2-42cd-9e8f-fcbc6fc2157c",
   "metadata": {},
   "source": [
    "# Step 4: Building and Training the Model"
   ]
  },
  {
   "cell_type": "code",
   "execution_count": 29,
   "id": "67931138-acca-4eea-8a15-1cc3c91ce3d2",
   "metadata": {},
   "outputs": [],
   "source": [
    "from sklearn.ensemble import RandomForestClassifier\n",
    "\n",
    "# Initialize and train the Random Forest model\n",
    "model = RandomForestClassifier(n_estimators=200, random_state=42)\n",
    "model.fit(X_train, y_train)\n",
    "\n",
    "# Predict market trends\n",
    "predictions = model.predict(X_test)"
   ]
  },
  {
   "cell_type": "markdown",
   "id": "048d81a3-f24c-483b-bbe2-28e70bbb3e60",
   "metadata": {},
   "source": [
    "# Step 5: Model Optimisation (Hyperparameter Tuning)"
   ]
  },
  {
   "cell_type": "code",
   "execution_count": 31,
   "id": "7c89eeef-78bc-4127-b91c-629de500ee3c",
   "metadata": {},
   "outputs": [
    {
     "name": "stdout",
     "output_type": "stream",
     "text": [
      "Best parameters found: {'max_depth': 10, 'min_samples_split': 5, 'n_estimators': 100}\n"
     ]
    }
   ],
   "source": [
    "from sklearn.model_selection import GridSearchCV\n",
    "\n",
    "# Define the hyperparameter grid\n",
    "param_grid = {\n",
    "    'n_estimators': [100, 200, 300],\n",
    "    'max_depth': [None, 10, 20, 30],\n",
    "    'min_samples_split': [2, 5, 10]\n",
    "}\n",
    "\n",
    "# Conduct grid search for optimization\n",
    "grid_search = GridSearchCV(RandomForestClassifier(random_state=42), param_grid, cv=5, scoring='accuracy')\n",
    "grid_search.fit(X_train, y_train)\n",
    "\n",
    "# Extract and utilize the best model\n",
    "optimized_model = grid_search.best_estimator_\n",
    "print(\"Best parameters found:\", grid_search.best_params_)"
   ]
  },
  {
   "cell_type": "markdown",
   "id": "148ba2c4-6b33-460f-9609-065d9e6db26e",
   "metadata": {},
   "source": [
    "# Step 6: Model Evaluation"
   ]
  },
  {
   "cell_type": "code",
   "execution_count": 40,
   "id": "b3ec77ab-2f21-4232-8dd2-90a35aad6541",
   "metadata": {},
   "outputs": [
    {
     "name": "stdout",
     "output_type": "stream",
     "text": [
      "Accuracy: 0.47\n",
      "Confusion Matrix:\n",
      " [[114  37]\n",
      " [149  48]]\n",
      "Classification Report:\n",
      "               precision    recall  f1-score   support\n",
      "\n",
      "           0       0.43      0.75      0.55       151\n",
      "           1       0.56      0.24      0.34       197\n",
      "\n",
      "    accuracy                           0.47       348\n",
      "   macro avg       0.50      0.50      0.45       348\n",
      "weighted avg       0.51      0.47      0.43       348\n",
      "\n"
     ]
    }
   ],
   "source": [
    "from sklearn.metrics import accuracy_score, confusion_matrix, classification_report\n",
    "\n",
    "# Evaluate the optimized model\n",
    "optimized_predictions = optimized_model.predict(X_test)\n",
    "\n",
    "accuracy = accuracy_score(y_test, optimized_predictions)\n",
    "conf_matrix = confusion_matrix(y_test, optimized_predictions)\n",
    "class_report = classification_report(y_test, optimized_predictions)\n",
    "\n",
    "print(f\"Accuracy: {accuracy:.2f}\")\n",
    "print(\"Confusion Matrix:\\n\", conf_matrix)\n",
    "print(\"Classification Report:\\n\", class_report)"
   ]
  },
  {
   "cell_type": "markdown",
   "id": "0d3cd2d4-fba6-4694-8969-962469d73e99",
   "metadata": {},
   "source": [
    "# Step 7: Implementing the Model in Trading"
   ]
  },
  {
   "cell_type": "code",
   "execution_count": 23,
   "id": "17cee9d5-d169-4bf2-a13c-1a134c269929",
   "metadata": {},
   "outputs": [
    {
     "name": "stdout",
     "output_type": "stream",
     "text": [
      "Price             MA20        MA50 Volatility Daily Return Actual Predicted  \\\n",
      "Ticker                                                                        \n",
      "Date                                                                          \n",
      "2024-12-17  240.166439  233.089609   0.005960     0.009720      0         1   \n",
      "2024-12-18  241.153854  233.539677   0.008421    -0.021422      1         0   \n",
      "2024-12-19  242.192212  233.949271   0.008440     0.007015      1         1   \n",
      "2024-12-20  243.489286  234.462741   0.008878     0.018816      1         1   \n",
      "2024-12-23  244.757892  235.021529   0.008893     0.003065      1         1   \n",
      "2024-12-24  246.023002  235.564016   0.008828     0.011478      1         1   \n",
      "2024-12-26  247.219685  236.071997   0.008782     0.003176      0         1   \n",
      "2024-12-27  248.251551  236.552763   0.009615    -0.013242      0         0   \n",
      "2024-12-30  248.994234  236.958420   0.010262    -0.013263      0         0   \n",
      "2024-12-31  249.535140  237.271641   0.010385    -0.007058      0         0   \n",
      "\n",
      "Price      Signal  \n",
      "Ticker             \n",
      "Date               \n",
      "2024-12-17    Buy  \n",
      "2024-12-18   Sell  \n",
      "2024-12-19    Buy  \n",
      "2024-12-20    Buy  \n",
      "2024-12-23    Buy  \n",
      "2024-12-24    Buy  \n",
      "2024-12-26    Buy  \n",
      "2024-12-27   Sell  \n",
      "2024-12-30   Sell  \n",
      "2024-12-31   Sell  \n"
     ]
    }
   ],
   "source": [
    "# Integrate predictions into the test dataset\n",
    "X_test = X_test.copy()\n",
    "X_test['Actual'] = y_test\n",
    "X_test['Predicted'] = optimized_predictions\n",
    "\n",
    "# Generate trade signals based on predictions\n",
    "X_test['Signal'] = np.where(X_test['Predicted'] == 1, 'Buy', 'Sell')\n",
    "\n",
    "print(X_test.tail(10))"
   ]
  }
 ],
 "metadata": {
  "kernelspec": {
   "display_name": "Python (TensorFlow)",
   "language": "python",
   "name": "tensorflow-env"
  },
  "language_info": {
   "codemirror_mode": {
    "name": "ipython",
    "version": 3
   },
   "file_extension": ".py",
   "mimetype": "text/x-python",
   "name": "python",
   "nbconvert_exporter": "python",
   "pygments_lexer": "ipython3",
   "version": "3.10.16"
  }
 },
 "nbformat": 4,
 "nbformat_minor": 5
}
