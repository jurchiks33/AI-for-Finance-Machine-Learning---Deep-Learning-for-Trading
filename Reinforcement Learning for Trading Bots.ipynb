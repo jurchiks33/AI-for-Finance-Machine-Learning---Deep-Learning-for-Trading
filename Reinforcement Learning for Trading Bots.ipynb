{
 "cells": [
  {
   "cell_type": "code",
   "execution_count": null,
   "id": "af2c7876-1c4c-4da8-9fee-612d4609ae68",
   "metadata": {},
   "outputs": [],
   "source": [
    "import gymnasium as gym\n",
    "import numpy as np\n",
    "import yfinance as yf\n",
    "from stable_baselines3 import DQN\n",
    "from stable_baselines3.common.vec_env import DummyVecEnv\n",
    "from stable_baselines3.common.monitor import Monitor\n",
    "\n",
    "# Download historical stock data\n",
    "symbol = 'TSLA'\n",
    "data = yf.download(symbol, start='2020-01-01', end='2025-01-01')\n",
    "data.dropna(inplace=True)"
   ]
  },
  {
   "cell_type": "code",
   "execution_count": null,
   "id": "c7c67c54-0a81-459b-8458-abc097b48265",
   "metadata": {},
   "outputs": [],
   "source": [
    "\n",
    "# Custom Trading Environment compatible with Gymnasium\n",
    "class TradingEnv(gym.Env):\n",
    "    def __init__(self, data):\n",
    "        super().__init__()\n",
    "        self.data = data.reset_index(drop=True)\n",
    "        self.current_step = 0\n",
    "        self.balance = 10000\n",
    "        self.position = 0\n",
    "        self.action_space = gym.spaces.Discrete(3)  # Buy, Sell, Hold\n",
    "        self.observation_space = gym.spaces.Box(\n",
    "            low=-np.inf, high=np.inf, shape=(4,), dtype=np.float32\n",
    "        )\n",
    "\n",
    "    def reset(self, seed=None, options=None):\n",
    "        super().reset(seed=seed)\n",
    "        self.current_step = 0\n",
    "        self.balance = 10000\n",
    "        self.position = 0\n",
    "        obs = self._next_observation()\n",
    "        info = {}\n",
    "        return obs, info\n",
    "\n",
    "    def step(self, action):\n",
    "        price = self.data['Close'].iloc[self.current_step]\n",
    "        reward = 0\n",
    "\n",
    "        if action == 0:  # Buy\n",
    "            self.position += 1\n",
    "            self.balance -= price\n",
    "        elif action == 1 and self.position > 0:  # Sell\n",
    "            self.position -= 1\n",
    "            self.balance += price\n",
    "            reward = price - self.data['Close'].iloc[self.current_step - 1]\n",
    "\n",
    "        self.current_step += 1\n",
    "        done = self.current_step >= len(self.data) - 1\n",
    "        obs = self._next_observation()\n",
    "        info = {}\n",
    "\n",
    "        return obs, reward, done, False, info  # done, truncated=False, info\n",
    "\n",
    "    def _next_observation(self):\n",
    "        frame = self.data.iloc[self.current_step]\n",
    "        return np.array([\n",
    "            frame['Open'],\n",
    "            frame['High'],\n",
    "            frame['Low'],\n",
    "            frame['Close']\n",
    "        ], dtype=np.float32).flatten()\n"
   ]
  },
  {
   "cell_type": "code",
   "execution_count": null,
   "id": "3b64ce96-f232-47d2-8afa-563fffefede2",
   "metadata": {},
   "outputs": [],
   "source": [
    "from stable_baselines3 import DQN\n",
    "from stable_baselines3.common.vec_env import DummyVecEnv\n",
    "from stable_baselines3.common.monitor import Monitor\n",
    "\n",
    "# Wrap the custom environment with Monitor and DummyVecEnv\n",
    "env = DummyVecEnv([lambda: Monitor(TradingEnv(data))])\n",
    "\n",
    "# Initialize and train the DQN model\n",
    "model = DQN('MlpPolicy', env, verbose=1)\n",
    "model.learn(total_timesteps=50000)\n",
    "\n",
    "# Save the trained model\n",
    "model.save(\"dqn_trading_bot\")\n"
   ]
  },
  {
   "cell_type": "code",
   "execution_count": null,
   "id": "87ab6a61-e792-42dc-9fa5-174198357886",
   "metadata": {},
   "outputs": [],
   "source": [
    "model = DQN.load(\"dqn_trading_bot\")\n",
    "obs = env.reset()\n",
    "total_rewards = 0\n",
    "\n",
    "while True:\n",
    "    action, _states = model.predict(obs)\n",
    "    obs, reward, done, info = env.step(action)\n",
    "    total_rewards += reward\n",
    "    if done:\n",
    "        break\n",
    "\n",
    "print(f\"Total Reward: {total_rewards}\")"
   ]
  },
  {
   "cell_type": "code",
   "execution_count": null,
   "id": "cfbf3825-f002-47cd-af08-d7cf962a5303",
   "metadata": {},
   "outputs": [],
   "source": []
  }
 ],
 "metadata": {
  "kernelspec": {
   "display_name": "Python (TensorFlow)",
   "language": "python",
   "name": "tensorflow-env"
  },
  "language_info": {
   "codemirror_mode": {
    "name": "ipython",
    "version": 3
   },
   "file_extension": ".py",
   "mimetype": "text/x-python",
   "name": "python",
   "nbconvert_exporter": "python",
   "pygments_lexer": "ipython3",
   "version": "3.10.16"
  }
 },
 "nbformat": 4,
 "nbformat_minor": 5
}
