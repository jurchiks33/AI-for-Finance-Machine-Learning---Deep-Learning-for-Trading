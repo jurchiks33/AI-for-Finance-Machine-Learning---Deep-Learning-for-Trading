{
 "cells": [
  {
   "cell_type": "markdown",
   "id": "c3a8cb8b-3c34-489f-8f12-8a97cb998f9f",
   "metadata": {},
   "source": [
    "# Basic SVM for Market Trend Prediction"
   ]
  },
  {
   "cell_type": "code",
   "execution_count": 2,
   "id": "0da1419c-8e4d-483d-bed1-feac070c8514",
   "metadata": {},
   "outputs": [
    {
     "name": "stdout",
     "output_type": "stream",
     "text": [
      "YF.download() has changed argument auto_adjust default to True\n"
     ]
    },
    {
     "name": "stderr",
     "output_type": "stream",
     "text": [
      "[*********************100%***********************]  1 of 1 completed\n"
     ]
    },
    {
     "name": "stdout",
     "output_type": "stream",
     "text": [
      "Basic SVM Accuracy: 0.5451612903225806\n",
      "Classification Report:\n",
      "               precision    recall  f1-score   support\n",
      "\n",
      "     bearish       0.00      0.00      0.00       141\n",
      "     bullish       0.55      1.00      0.71       169\n",
      "\n",
      "    accuracy                           0.55       310\n",
      "   macro avg       0.27      0.50      0.35       310\n",
      "weighted avg       0.30      0.55      0.38       310\n",
      "\n"
     ]
    }
   ],
   "source": [
    "import yfinance as yf\n",
    "import pandas as pd\n",
    "import numpy as np\n",
    "from sklearn.svm import SVC\n",
    "from sklearn.model_selection import train_test_split\n",
    "from sklearn.metrics import accuracy_score, classification_report\n",
    "\n",
    "# Download historical stock data for Apple Inc.\n",
    "ticker = \"AAPL\"\n",
    "data = yf.download(ticker, start=\"2020-01-01\", end=\"2025-01-01\")\n",
    "\n",
    "# Safely select price column ('Adj Close' if available, else 'Close')\n",
    "price_col = 'Adj Close' if 'Adj Close' in data.columns else 'Close'\n",
    "\n",
    "# Ensure chosen column exists\n",
    "if price_col not in data.columns:\n",
    "    raise ValueError(f\"Column '{price_col}' not found. Available columns: {data.columns}\")\n",
    "\n",
    "# Feature Engineering: Compute daily returns, moving average, and volatility\n",
    "data['Return'] = data[price_col].pct_change()\n",
    "data['MA20'] = data[price_col].rolling(window=20).mean()\n",
    "data['Volatility'] = data['Return'].rolling(window=20).std()\n",
    "data.dropna(inplace=True)\n",
    "\n",
    "# Define trend (bullish if return positive, bearish otherwise)\n",
    "data['Trend'] = np.where(data['Return'] > 0, 'bullish', 'bearish')\n",
    "\n",
    "# Define features and target variable\n",
    "features = ['MA20', 'Volatility']\n",
    "X = data[features]\n",
    "y = data['Trend']\n",
    "\n",
    "# Split data into training and testing sets\n",
    "X_train, X_test, y_train, y_test = train_test_split(X, y, test_size=0.25, random_state=42)\n",
    "\n",
    "# Initialize and train the SVM classifier\n",
    "svm = SVC(kernel='linear', random_state=42)\n",
    "svm.fit(X_train, y_train)\n",
    "\n",
    "# Predict and evaluate\n",
    "predictions = svm.predict(X_test)\n",
    "\n",
    "print(\"Basic SVM Accuracy:\", accuracy_score(y_test, predictions))\n",
    "print(\"Classification Report:\\n\", classification_report(y_test, predictions, zero_division=0))\n"
   ]
  },
  {
   "cell_type": "markdown",
   "id": "9bb7f01c-3a6b-4897-b52d-dbe4478314bc",
   "metadata": {},
   "source": [
    "# Hyperparameter Tuning and Kernel Selection"
   ]
  },
  {
   "cell_type": "code",
   "execution_count": 8,
   "id": "335b94bd-eb64-4d56-9e46-3f32079ab395",
   "metadata": {},
   "outputs": [
    {
     "name": "stdout",
     "output_type": "stream",
     "text": [
      "Best Hyperparameters: {'C': 1, 'gamma': 'scale', 'kernel': 'linear'}\n",
      "Advanced SVM Accuracy: 0.5451612903225806\n",
      "Advanced Classification Report:\n",
      "               precision    recall  f1-score   support\n",
      "\n",
      "     bearish       0.00      0.00      0.00       141\n",
      "     bullish       0.55      1.00      0.71       169\n",
      "\n",
      "    accuracy                           0.55       310\n",
      "   macro avg       0.27      0.50      0.35       310\n",
      "weighted avg       0.30      0.55      0.38       310\n",
      "\n"
     ]
    }
   ],
   "source": [
    "import warnings\n",
    "from sklearn.exceptions import UndefinedMetricWarning\n",
    "warnings.filterwarnings(\"ignore\", category=UndefinedMetricWarning)\n",
    "\n",
    "from sklearn.svm import SVC\n",
    "from sklearn.model_selection import GridSearchCV\n",
    "from sklearn.metrics import accuracy_score, classification_report\n",
    "\n",
    "# Define a simplified parameter grid\n",
    "param_grid = {\n",
    "    'kernel': ['linear', 'rbf'],  # Testing only two kernels for speed\n",
    "    'C': [1, 10],\n",
    "    'gamma': ['scale']\n",
    "}\n",
    "\n",
    "# Initialize GridSearchCV with 3-fold cross-validation for quicker training\n",
    "grid_search = GridSearchCV(\n",
    "    estimator=SVC(random_state=42),\n",
    "    param_grid=param_grid,\n",
    "    cv=3,\n",
    "    scoring='accuracy'\n",
    ")\n",
    "\n",
    "# Fit the model\n",
    "grid_search.fit(X_train, y_train)\n",
    "\n",
    "# Retrieve the best estimator and display hyperparameters\n",
    "best_svm = grid_search.best_estimator_\n",
    "print(\"Best Hyperparameters:\", grid_search.best_params_)\n",
    "\n",
    "# Evaluate the tuned model\n",
    "predictions = best_svm.predict(X_test)\n",
    "accuracy = accuracy_score(y_test, predictions)\n",
    "print(\"Advanced SVM Accuracy:\", accuracy)\n",
    "print(\"Advanced Classification Report:\\n\", classification_report(y_test, predictions, zero_division=0))\n"
   ]
  }
 ],
 "metadata": {
  "kernelspec": {
   "display_name": "Python (TensorFlow)",
   "language": "python",
   "name": "tensorflow-env"
  },
  "language_info": {
   "codemirror_mode": {
    "name": "ipython",
    "version": 3
   },
   "file_extension": ".py",
   "mimetype": "text/x-python",
   "name": "python",
   "nbconvert_exporter": "python",
   "pygments_lexer": "ipython3",
   "version": "3.10.16"
  }
 },
 "nbformat": 4,
 "nbformat_minor": 5
}
