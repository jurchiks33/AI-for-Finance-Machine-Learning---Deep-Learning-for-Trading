{
 "cells": [
  {
   "cell_type": "markdown",
   "id": "381e11d2-31c9-492a-926d-86bc05c839ff",
   "metadata": {},
   "source": [
    "# Common Scaling Techniques"
   ]
  },
  {
   "cell_type": "code",
   "execution_count": 1,
   "id": "84b53917-ca09-4811-b550-2331672c6a6a",
   "metadata": {},
   "outputs": [
    {
     "name": "stdout",
     "output_type": "stream",
     "text": [
      "   Stock_Price  Scaled_Price\n",
      "0          150          0.00\n",
      "1          200          0.25\n",
      "2          250          0.50\n",
      "3          300          0.75\n",
      "4          350          1.00\n"
     ]
    }
   ],
   "source": [
    "from sklearn.preprocessing import MinMaxScaler\n",
    "import pandas as pd\n",
    "\n",
    "# Example financial data\n",
    "data = {'Stock_Price': [150, 200, 250, 300, 350]}\n",
    "df = pd.DataFrame(data)\n",
    "\n",
    "scaler = MinMaxScaler()\n",
    "df['Scaled_Price'] = scaler.fit_transform(df[['Stock_Price']])\n",
    "print(df)"
   ]
  },
  {
   "cell_type": "markdown",
   "id": "fbd6e60a-0267-4a3a-803c-541c05fb19b5",
   "metadata": {},
   "source": [
    "# Standardization (Z-Score Scaling)"
   ]
  },
  {
   "cell_type": "code",
   "execution_count": 2,
   "id": "4eb246ec-b1cd-4e3b-9e93-94f60520c9e0",
   "metadata": {},
   "outputs": [
    {
     "name": "stdout",
     "output_type": "stream",
     "text": [
      "   Stock_Price  Scaled_Price  Standardized_Price\n",
      "0          150          0.00           -1.414214\n",
      "1          200          0.25           -0.707107\n",
      "2          250          0.50            0.000000\n",
      "3          300          0.75            0.707107\n",
      "4          350          1.00            1.414214\n"
     ]
    }
   ],
   "source": [
    "from sklearn.preprocessing import StandardScaler\n",
    "\n",
    "scaler = StandardScaler()\n",
    "df['Standardized_Price'] = scaler.fit_transform(df[['Stock_Price']])\n",
    "print(df)"
   ]
  },
  {
   "cell_type": "markdown",
   "id": "5b5d976f-3d62-4b17-a713-41af4de8fd9e",
   "metadata": {},
   "source": [
    "# Robust Scaling"
   ]
  },
  {
   "cell_type": "code",
   "execution_count": 3,
   "id": "7808f18a-09e6-4d0d-9640-0b433644621c",
   "metadata": {},
   "outputs": [
    {
     "name": "stdout",
     "output_type": "stream",
     "text": [
      "   Stock_Price  Scaled_Price  Standardized_Price  Robust_Scaled_Price\n",
      "0          150          0.00           -1.414214                 -1.0\n",
      "1          200          0.25           -0.707107                 -0.5\n",
      "2          250          0.50            0.000000                  0.0\n",
      "3          300          0.75            0.707107                  0.5\n",
      "4          350          1.00            1.414214                  1.0\n"
     ]
    }
   ],
   "source": [
    "from sklearn.preprocessing import RobustScaler\n",
    "\n",
    "scaler = RobustScaler()\n",
    "df['Robust_Scaled_Price'] = scaler.fit_transform(df[['Stock_Price']])\n",
    "print(df)"
   ]
  },
  {
   "cell_type": "markdown",
   "id": "cfbf9267-3838-4cf6-8412-fd27eea96a35",
   "metadata": {},
   "source": [
    "# Log Transformation"
   ]
  },
  {
   "cell_type": "code",
   "execution_count": 4,
   "id": "33adb614-99ca-4644-957a-efd063043682",
   "metadata": {},
   "outputs": [
    {
     "name": "stdout",
     "output_type": "stream",
     "text": [
      "   Stock_Price  Scaled_Price  Standardized_Price  Robust_Scaled_Price  \\\n",
      "0          150          0.00           -1.414214                 -1.0   \n",
      "1          200          0.25           -0.707107                 -0.5   \n",
      "2          250          0.50            0.000000                  0.0   \n",
      "3          300          0.75            0.707107                  0.5   \n",
      "4          350          1.00            1.414214                  1.0   \n",
      "\n",
      "   Log_Transformed_Price  \n",
      "0               5.010635  \n",
      "1               5.298317  \n",
      "2               5.521461  \n",
      "3               5.703782  \n",
      "4               5.857933  \n"
     ]
    }
   ],
   "source": [
    "import numpy as np\n",
    "\n",
    "df['Log_Transformed_Price'] = np.log(df['Stock_Price'])\n",
    "print(df)"
   ]
  },
  {
   "cell_type": "markdown",
   "id": "12087be7-49f1-4719-b7a3-8382b10ae8a0",
   "metadata": {},
   "source": [
    "# Practical Application: Scaling Financial Time-Series Data"
   ]
  },
  {
   "cell_type": "code",
   "execution_count": 5,
   "id": "b41a3cd2-f5af-4a4f-a72b-8748d4951fec",
   "metadata": {},
   "outputs": [
    {
     "name": "stdout",
     "output_type": "stream",
     "text": [
      "YF.download() has changed argument auto_adjust default to True\n"
     ]
    },
    {
     "name": "stderr",
     "output_type": "stream",
     "text": [
      "[*********************100%***********************]  1 of 1 completed"
     ]
    },
    {
     "name": "stdout",
     "output_type": "stream",
     "text": [
      "Price            Close Scaled_Close\n",
      "Ticker            AAPL             \n",
      "Date                               \n",
      "2024-12-24  257.916443     0.991334\n",
      "2024-12-26  258.735504     1.000000\n",
      "2024-12-27  255.309296     0.963748\n",
      "2024-12-30  251.923019     0.927919\n",
      "2024-12-31  250.144974     0.909105\n"
     ]
    },
    {
     "name": "stderr",
     "output_type": "stream",
     "text": [
      "\n"
     ]
    }
   ],
   "source": [
    "import yfinance as yf\n",
    "\n",
    "stock_data = yf.download('AAPL', start='2024-01-01', end='2025-01-01')\n",
    "\n",
    "# Min-Max Scaling\n",
    "scaler = MinMaxScaler()\n",
    "stock_data['Scaled_Close'] = scaler.fit_transform(stock_data[['Close']])\n",
    "print(stock_data[['Close', 'Scaled_Close']].tail())"
   ]
  },
  {
   "cell_type": "code",
   "execution_count": null,
   "id": "c2a4e807-88a3-45c0-9634-d7a326b5f1aa",
   "metadata": {},
   "outputs": [],
   "source": []
  }
 ],
 "metadata": {
  "kernelspec": {
   "display_name": "base",
   "language": "python",
   "name": "python3"
  },
  "language_info": {
   "codemirror_mode": {
    "name": "ipython",
    "version": 3
   },
   "file_extension": ".py",
   "mimetype": "text/x-python",
   "name": "python",
   "nbconvert_exporter": "python",
   "pygments_lexer": "ipython3",
   "version": "3.11.7"
  }
 },
 "nbformat": 4,
 "nbformat_minor": 5
}
