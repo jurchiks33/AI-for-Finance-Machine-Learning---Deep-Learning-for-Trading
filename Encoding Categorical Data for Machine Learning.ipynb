{
 "cells": [
  {
   "cell_type": "markdown",
   "id": "ffb3b111-8e84-40c9-bf8b-0e99962451c1",
   "metadata": {},
   "source": [
    "# One-Hot Encoding"
   ]
  },
  {
   "cell_type": "code",
   "execution_count": 1,
   "id": "1e2367c2-a252-4e4d-8594-bab91c828f24",
   "metadata": {},
   "outputs": [
    {
     "name": "stdout",
     "output_type": "stream",
     "text": [
      "   Sector_Finance  Sector_Healthcare  Sector_Tech\n",
      "0             0.0                0.0          1.0\n",
      "1             0.0                1.0          0.0\n",
      "2             1.0                0.0          0.0\n",
      "3             0.0                0.0          1.0\n",
      "4             1.0                0.0          0.0\n"
     ]
    }
   ],
   "source": [
    "import pandas as pd\n",
    "from sklearn.preprocessing import OneHotEncoder\n",
    "\n",
    "# Sample dataset\n",
    "data = pd.DataFrame({'Sector': ['Tech', 'Healthcare', 'Finance', 'Tech', 'Finance']})\n",
    "\n",
    "# Use sparse_output \n",
    "encoder = OneHotEncoder(sparse_output=False)\n",
    "encoded = encoder.fit_transform(data[['Sector']])\n",
    "\n",
    "# Convert to DataFrame\n",
    "encoded_df = pd.DataFrame(encoded, columns=encoder.get_feature_names_out())\n",
    "\n",
    "print(encoded_df)\n"
   ]
  },
  {
   "cell_type": "markdown",
   "id": "8af6e2fa-67c9-4712-b5cb-60faf1422d30",
   "metadata": {},
   "source": [
    "# Label Encoding"
   ]
  },
  {
   "cell_type": "code",
   "execution_count": 2,
   "id": "bb30b746-cb2a-46d1-b138-488732f5d082",
   "metadata": {},
   "outputs": [
    {
     "name": "stdout",
     "output_type": "stream",
     "text": [
      "       Sector  Sector_Encoded\n",
      "0        Tech               2\n",
      "1  Healthcare               1\n",
      "2     Finance               0\n",
      "3        Tech               2\n",
      "4     Finance               0\n"
     ]
    }
   ],
   "source": [
    "from sklearn.preprocessing import LabelEncoder\n",
    "\n",
    "label_encoder = LabelEncoder()\n",
    "data['Sector_Encoded'] = label_encoder.fit_transform(data['Sector'])\n",
    "print(data)"
   ]
  },
  {
   "cell_type": "markdown",
   "id": "dc5b61c7-f897-4c1c-abc3-4a639246e38e",
   "metadata": {},
   "source": [
    "# Target Encoding"
   ]
  },
  {
   "cell_type": "code",
   "execution_count": 3,
   "id": "3e80a470-8996-49f4-901c-2c884b35d6c7",
   "metadata": {},
   "outputs": [
    {
     "name": "stdout",
     "output_type": "stream",
     "text": [
      "       Sector  Sector_Encoded  Stock_Returns  Sector_Target_Encoded\n",
      "0        Tech               2           0.05                  0.040\n",
      "1  Healthcare               1           0.02                  0.020\n",
      "2     Finance               0           0.07                  0.065\n",
      "3        Tech               2           0.03                  0.040\n",
      "4     Finance               0           0.06                  0.065\n"
     ]
    }
   ],
   "source": [
    "import numpy as np\n",
    "\n",
    "data['Stock_Returns'] = [0.05, 0.02, 0.07, 0.03, 0.06]\n",
    "data['Sector_Target_Encoded'] = data.groupby('Sector')['Stock_Returns'].transform('mean')\n",
    "print(data)"
   ]
  },
  {
   "cell_type": "markdown",
   "id": "6dbd4d1b-f0ff-4523-99bc-ecb9e4c57a9a",
   "metadata": {},
   "source": [
    "# Frequency Encoding"
   ]
  },
  {
   "cell_type": "code",
   "execution_count": 4,
   "id": "45c65421-c0b8-41cd-9c94-e633387755e8",
   "metadata": {},
   "outputs": [
    {
     "name": "stdout",
     "output_type": "stream",
     "text": [
      "       Sector  Sector_Encoded  Stock_Returns  Sector_Target_Encoded  \\\n",
      "0        Tech               2           0.05                  0.040   \n",
      "1  Healthcare               1           0.02                  0.020   \n",
      "2     Finance               0           0.07                  0.065   \n",
      "3        Tech               2           0.03                  0.040   \n",
      "4     Finance               0           0.06                  0.065   \n",
      "\n",
      "   Sector_Freq_Encoded  \n",
      "0                  0.4  \n",
      "1                  0.2  \n",
      "2                  0.4  \n",
      "3                  0.4  \n",
      "4                  0.4  \n"
     ]
    }
   ],
   "source": [
    "data['Sector_Freq_Encoded'] = data['Sector'].map(data['Sector'].value_counts(normalize=True))\n",
    "print(data)"
   ]
  },
  {
   "cell_type": "markdown",
   "id": "1daa5a6b-c2d3-4b79-8204-898d43c9dee1",
   "metadata": {},
   "source": [
    "# Binary Encoding"
   ]
  },
  {
   "cell_type": "code",
   "execution_count": null,
   "id": "83e087f2-4eee-48ac-ad77-125b454a32ad",
   "metadata": {},
   "outputs": [],
   "source": [
    "!pip install category-encoders"
   ]
  },
  {
   "cell_type": "code",
   "execution_count": 6,
   "id": "fc2399d9-a179-46a2-bb27-b21bae2af36f",
   "metadata": {},
   "outputs": [
    {
     "name": "stdout",
     "output_type": "stream",
     "text": [
      "   Sector_0  Sector_1  Sector_Encoded  Stock_Returns  Sector_Target_Encoded  \\\n",
      "0         0         1               2           0.05                  0.040   \n",
      "1         1         0               1           0.02                  0.020   \n",
      "2         1         1               0           0.07                  0.065   \n",
      "3         0         1               2           0.03                  0.040   \n",
      "4         1         1               0           0.06                  0.065   \n",
      "\n",
      "   Sector_Freq_Encoded  \n",
      "0                  0.4  \n",
      "1                  0.2  \n",
      "2                  0.4  \n",
      "3                  0.4  \n",
      "4                  0.4  \n"
     ]
    }
   ],
   "source": [
    "from category_encoders import BinaryEncoder\n",
    "\n",
    "encoder = BinaryEncoder(cols=['Sector'])\n",
    "data_encoded = encoder.fit_transform(data)\n",
    "print(data_encoded)"
   ]
  },
  {
   "cell_type": "markdown",
   "id": "dadbd71f-c131-4bb1-9bd5-2be1046fc44e",
   "metadata": {},
   "source": [
    "# Hash Encoding"
   ]
  },
  {
   "cell_type": "code",
   "execution_count": 7,
   "id": "a3db8b57-4397-4757-9029-fb5b82236bd0",
   "metadata": {},
   "outputs": [
    {
     "name": "stdout",
     "output_type": "stream",
     "text": [
      "   col_0  col_1  col_2  col_3  Sector_Encoded  Stock_Returns  \\\n",
      "0      0      1      0      0               2           0.05   \n",
      "1      0      0      0      1               1           0.02   \n",
      "2      1      0      0      0               0           0.07   \n",
      "3      0      1      0      0               2           0.03   \n",
      "4      1      0      0      0               0           0.06   \n",
      "\n",
      "   Sector_Target_Encoded  Sector_Freq_Encoded  \n",
      "0                  0.040                  0.4  \n",
      "1                  0.020                  0.2  \n",
      "2                  0.065                  0.4  \n",
      "3                  0.040                  0.4  \n",
      "4                  0.065                  0.4  \n"
     ]
    }
   ],
   "source": [
    "from category_encoders import HashingEncoder\n",
    "\n",
    "encoder = HashingEncoder(cols=['Sector'], n_components=4)\n",
    "data_encoded = encoder.fit_transform(data)\n",
    "print(data_encoded)"
   ]
  },
  {
   "cell_type": "code",
   "execution_count": null,
   "id": "1ea229bd-c7a1-4ca2-a3d2-90a1afb4d68c",
   "metadata": {},
   "outputs": [],
   "source": []
  }
 ],
 "metadata": {
  "kernelspec": {
   "display_name": "base",
   "language": "python",
   "name": "python3"
  },
  "language_info": {
   "codemirror_mode": {
    "name": "ipython",
    "version": 3
   },
   "file_extension": ".py",
   "mimetype": "text/x-python",
   "name": "python",
   "nbconvert_exporter": "python",
   "pygments_lexer": "ipython3",
   "version": "3.11.7"
  }
 },
 "nbformat": 4,
 "nbformat_minor": 5
}
