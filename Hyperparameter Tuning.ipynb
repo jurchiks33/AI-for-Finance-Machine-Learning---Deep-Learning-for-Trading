{
 "cells": [
  {
   "cell_type": "markdown",
   "id": "d1929ced-7e1f-46e7-80c0-265482ba0f46",
   "metadata": {},
   "source": [
    "# Baseline Model with Real Stock Data"
   ]
  },
  {
   "cell_type": "code",
   "execution_count": 4,
   "id": "42d2d0a2-08e1-4aa5-8f0f-c9419a24673c",
   "metadata": {},
   "outputs": [
    {
     "name": "stderr",
     "output_type": "stream",
     "text": [
      "[*********************100%***********************]  1 of 1 completed\n"
     ]
    },
    {
     "name": "stdout",
     "output_type": "stream",
     "text": [
      "Columns available: MultiIndex([( 'Close', 'AAPL'),\n",
      "            (  'High', 'AAPL'),\n",
      "            (   'Low', 'AAPL'),\n",
      "            (  'Open', 'AAPL'),\n",
      "            ('Volume', 'AAPL')],\n",
      "           names=['Price', 'Ticker'])\n",
      "Baseline Model Accuracy: 0.44516129032258067\n",
      "Baseline Classification Report:\n",
      "               precision    recall  f1-score   support\n",
      "\n",
      "     bearish       0.39      0.38      0.39       141\n",
      "     bullish       0.49      0.50      0.49       169\n",
      "\n",
      "    accuracy                           0.45       310\n",
      "   macro avg       0.44      0.44      0.44       310\n",
      "weighted avg       0.44      0.45      0.44       310\n",
      "\n"
     ]
    }
   ],
   "source": [
    "# Import libraries for data acquisition, manipulation, and modeling\n",
    "import yfinance as yf\n",
    "import pandas as pd\n",
    "import numpy as np\n",
    "from sklearn.ensemble import RandomForestClassifier\n",
    "from sklearn.model_selection import train_test_split\n",
    "from sklearn.metrics import accuracy_score, classification_report\n",
    "\n",
    "# Download historical stock data for Apple Inc.\n",
    "ticker = \"AAPL\"\n",
    "data = yf.download(ticker, start=\"2020-01-01\", end=\"2025-01-01\")\n",
    "\n",
    "# Check the available columns in the data\n",
    "print(\"Columns available:\", data.columns)\n",
    "\n",
    "# Use 'Adj Close' if available, otherwise fall back to 'Close'\n",
    "price_column = 'Adj Close' if 'Adj Close' in data.columns else 'Close'\n",
    "\n",
    "# Feature Engineering: Create technical indicators\n",
    "data['Return'] = data[price_column].pct_change()\n",
    "data['MA20'] = data[price_column].rolling(window=20).mean()       # 20-day moving average\n",
    "data['Volatility'] = data['Return'].rolling(window=20).std()      # 20-day volatility\n",
    "data.dropna(inplace=True)\n",
    "\n",
    "# Define market trend: bullish if daily return > 0, bearish otherwise\n",
    "data['Trend'] = np.where(data['Return'] > 0, 'bullish', 'bearish')\n",
    "\n",
    "# Features and target variable\n",
    "features = ['MA20', 'Volatility']\n",
    "X = data[features]\n",
    "y = data['Trend']\n",
    "\n",
    "# Split data into training and testing sets\n",
    "X_train, X_test, y_train, y_test = train_test_split(X, y, test_size=0.25, random_state=42)\n",
    "\n",
    "# Initialize the baseline Random Forest model\n",
    "baseline_rf = RandomForestClassifier(n_estimators=100, random_state=42)\n",
    "baseline_rf.fit(X_train, y_train)\n",
    "\n",
    "# Make predictions and evaluate the baseline model\n",
    "predictions = baseline_rf.predict(X_test)\n",
    "print(\"Baseline Model Accuracy:\", accuracy_score(y_test, predictions))\n",
    "print(\"Baseline Classification Report:\\n\", classification_report(y_test, predictions))\n"
   ]
  },
  {
   "cell_type": "markdown",
   "id": "a6720fe6-8832-49dc-88b2-fe873d03f91b",
   "metadata": {},
   "source": [
    "#  Hyperparameter Tuning with GridSearchCV"
   ]
  },
  {
   "cell_type": "code",
   "execution_count": 6,
   "id": "0c04fe1f-84b8-4c82-ba4c-70ef5b5aeb4d",
   "metadata": {},
   "outputs": [
    {
     "name": "stdout",
     "output_type": "stream",
     "text": [
      "Best Hyperparameters: {'max_depth': 10, 'min_samples_leaf': 4, 'min_samples_split': 10, 'n_estimators': 100}\n",
      "Advanced Model Accuracy: 0.45806451612903226\n",
      "Advanced Classification Report:\n",
      "               precision    recall  f1-score   support\n",
      "\n",
      "     bearish       0.40      0.37      0.38       141\n",
      "     bullish       0.50      0.53      0.52       169\n",
      "\n",
      "    accuracy                           0.46       310\n",
      "   macro avg       0.45      0.45      0.45       310\n",
      "weighted avg       0.45      0.46      0.46       310\n",
      "\n"
     ]
    }
   ],
   "source": [
    "# Import GridSearchCV for hyperparameter tuning\n",
    "from sklearn.model_selection import GridSearchCV\n",
    "from sklearn.metrics import make_scorer\n",
    "\n",
    "# Define a grid of hyperparameters to search\n",
    "param_grid = {\n",
    "    'n_estimators': [100, 200, 300],\n",
    "    'max_depth': [None, 10, 20, 30],\n",
    "    'min_samples_split': [2, 5, 10],\n",
    "    'min_samples_leaf': [1, 2, 4]\n",
    "}\n",
    "\n",
    "# Setup GridSearchCV with cross-validation\n",
    "grid_search = GridSearchCV(\n",
    "    estimator=RandomForestClassifier(random_state=42),\n",
    "    param_grid=param_grid,\n",
    "    cv=5,\n",
    "    scoring=make_scorer(accuracy_score),\n",
    "    n_jobs=-1  # Utilize all available cores\n",
    ")\n",
    "\n",
    "# Execute grid search on the training data\n",
    "grid_search.fit(X_train, y_train)\n",
    "\n",
    "# Retrieve and display the best hyperparameters\n",
    "best_params = grid_search.best_params_\n",
    "print(\"Best Hyperparameters:\", best_params)\n",
    "\n",
    "# Evaluate the tuned model on the test set\n",
    "best_rf = grid_search.best_estimator_\n",
    "predictions_advanced = best_rf.predict(X_test)\n",
    "accuracy_advanced = accuracy_score(y_test, predictions_advanced)\n",
    "print(\"Advanced Model Accuracy:\", accuracy_advanced)\n",
    "print(\"Advanced Classification Report:\\n\", classification_report(y_test, predictions_advanced))\n"
   ]
  }
 ],
 "metadata": {
  "kernelspec": {
   "display_name": "Python (TensorFlow)",
   "language": "python",
   "name": "tensorflow-env"
  },
  "language_info": {
   "codemirror_mode": {
    "name": "ipython",
    "version": 3
   },
   "file_extension": ".py",
   "mimetype": "text/x-python",
   "name": "python",
   "nbconvert_exporter": "python",
   "pygments_lexer": "ipython3",
   "version": "3.10.16"
  }
 },
 "nbformat": 4,
 "nbformat_minor": 5
}
