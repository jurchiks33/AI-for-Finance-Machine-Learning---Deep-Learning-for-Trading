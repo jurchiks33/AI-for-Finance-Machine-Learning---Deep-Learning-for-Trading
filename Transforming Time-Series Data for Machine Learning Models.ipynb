{
 "cells": [
  {
   "cell_type": "markdown",
   "id": "b6e3bd56-2c47-451d-8b5b-bb6a829108a0",
   "metadata": {},
   "source": [
    "# Filling Missing Data"
   ]
  },
  {
   "cell_type": "code",
   "execution_count": 1,
   "id": "ba453bad-68ae-4fc8-9798-560025dfc941",
   "metadata": {},
   "outputs": [
    {
     "name": "stdout",
     "output_type": "stream",
     "text": [
      "            Stock_Price  Stock_Price_Filled  Stock_Price_Interpolated\n",
      "Date                                                                 \n",
      "2024-01-01        100.0               100.0                     100.0\n",
      "2024-01-02        102.0               102.0                     102.0\n",
      "2024-01-03          NaN               102.0                     103.5\n",
      "2024-01-04        105.0               105.0                     105.0\n",
      "2024-01-05        107.0               107.0                     107.0\n",
      "2024-01-06          NaN               107.0                     108.5\n",
      "2024-01-07        110.0               110.0                     110.0\n",
      "2024-01-08        112.0               112.0                     112.0\n",
      "2024-01-09        113.0               113.0                     113.0\n",
      "2024-01-10          NaN               113.0                     113.0\n"
     ]
    }
   ],
   "source": [
    "import pandas as pd\n",
    "import numpy as np\n",
    "\n",
    "# Sample time-series data\n",
    "dates = pd.date_range(start=\"2024-01-01\", periods=10, freq='D')\n",
    "data = {'Date': dates, 'Stock_Price': [100, 102, np.nan, 105, 107, np.nan, 110, 112, 113, np.nan]}\n",
    "df = pd.DataFrame(data).set_index('Date')\n",
    "\n",
    "# method for forward fill\n",
    "df['Stock_Price_Filled'] = df['Stock_Price'].ffill()\n",
    "\n",
    "# Filling missing values using interpolation\n",
    "df['Stock_Price_Interpolated'] = df['Stock_Price'].interpolate()\n",
    "\n",
    "print(df)\n"
   ]
  },
  {
   "cell_type": "markdown",
   "id": "0eda3659-c40f-42b4-8f37-9ef5d95927d0",
   "metadata": {},
   "source": [
    "# Creating Lag Features"
   ]
  },
  {
   "cell_type": "code",
   "execution_count": 2,
   "id": "54be0fa7-5cd7-4c17-b203-22dc5d259567",
   "metadata": {},
   "outputs": [
    {
     "name": "stdout",
     "output_type": "stream",
     "text": [
      "            Stock_Price  Stock_Price_Filled  Stock_Price_Interpolated  Lag_1  \\\n",
      "Date                                                                           \n",
      "2024-01-01        100.0               100.0                     100.0    NaN   \n",
      "2024-01-02        102.0               102.0                     102.0  100.0   \n",
      "2024-01-03          NaN               102.0                     103.5  102.0   \n",
      "2024-01-04        105.0               105.0                     105.0  102.0   \n",
      "2024-01-05        107.0               107.0                     107.0  105.0   \n",
      "2024-01-06          NaN               107.0                     108.5  107.0   \n",
      "2024-01-07        110.0               110.0                     110.0  107.0   \n",
      "2024-01-08        112.0               112.0                     112.0  110.0   \n",
      "2024-01-09        113.0               113.0                     113.0  112.0   \n",
      "2024-01-10          NaN               113.0                     113.0  113.0   \n",
      "\n",
      "            Lag_2  Lag_3  \n",
      "Date                      \n",
      "2024-01-01    NaN    NaN  \n",
      "2024-01-02    NaN    NaN  \n",
      "2024-01-03  100.0    NaN  \n",
      "2024-01-04  102.0  100.0  \n",
      "2024-01-05  102.0  102.0  \n",
      "2024-01-06  105.0  102.0  \n",
      "2024-01-07  107.0  105.0  \n",
      "2024-01-08  107.0  107.0  \n",
      "2024-01-09  110.0  107.0  \n",
      "2024-01-10  112.0  110.0  \n"
     ]
    }
   ],
   "source": [
    "df['Lag_1'] = df['Stock_Price_Filled'].shift(1)\n",
    "df['Lag_2'] = df['Stock_Price_Filled'].shift(2)\n",
    "df['Lag_3'] = df['Stock_Price_Filled'].shift(3)\n",
    "print(df)"
   ]
  },
  {
   "cell_type": "markdown",
   "id": "c9c8fdb6-e897-4d9a-9f88-9ed4a9deac5d",
   "metadata": {},
   "source": [
    "# Calculating Moving Averages and Standard Deviation"
   ]
  },
  {
   "cell_type": "code",
   "execution_count": 3,
   "id": "b4ba1f5a-9476-448c-8191-ec358eaf160e",
   "metadata": {},
   "outputs": [
    {
     "name": "stdout",
     "output_type": "stream",
     "text": [
      "            Stock_Price  Stock_Price_Filled  Stock_Price_Interpolated  Lag_1  \\\n",
      "Date                                                                           \n",
      "2024-01-01        100.0               100.0                     100.0    NaN   \n",
      "2024-01-02        102.0               102.0                     102.0  100.0   \n",
      "2024-01-03          NaN               102.0                     103.5  102.0   \n",
      "2024-01-04        105.0               105.0                     105.0  102.0   \n",
      "2024-01-05        107.0               107.0                     107.0  105.0   \n",
      "2024-01-06          NaN               107.0                     108.5  107.0   \n",
      "2024-01-07        110.0               110.0                     110.0  107.0   \n",
      "2024-01-08        112.0               112.0                     112.0  110.0   \n",
      "2024-01-09        113.0               113.0                     113.0  112.0   \n",
      "2024-01-10          NaN               113.0                     113.0  113.0   \n",
      "\n",
      "            Lag_2  Lag_3  Rolling_Mean_3  Rolling_Std_3  \n",
      "Date                                                     \n",
      "2024-01-01    NaN    NaN             NaN            NaN  \n",
      "2024-01-02    NaN    NaN             NaN            NaN  \n",
      "2024-01-03  100.0    NaN      101.333333       1.154701  \n",
      "2024-01-04  102.0  100.0      103.000000       1.732051  \n",
      "2024-01-05  102.0  102.0      104.666667       2.516611  \n",
      "2024-01-06  105.0  102.0      106.333333       1.154701  \n",
      "2024-01-07  107.0  105.0      108.000000       1.732051  \n",
      "2024-01-08  107.0  107.0      109.666667       2.516611  \n",
      "2024-01-09  110.0  107.0      111.666667       1.527525  \n",
      "2024-01-10  112.0  110.0      112.666667       0.577350  \n"
     ]
    }
   ],
   "source": [
    "df['Rolling_Mean_3'] = df['Stock_Price_Filled'].rolling(window=3).mean()\n",
    "df['Rolling_Std_3'] = df['Stock_Price_Filled'].rolling(window=3).std()\n",
    "print(df)"
   ]
  },
  {
   "cell_type": "markdown",
   "id": "2c25b78d-5ce0-41b6-a2d2-f845109d7274",
   "metadata": {},
   "source": [
    "# Rolling Window Features"
   ]
  },
  {
   "cell_type": "code",
   "execution_count": 4,
   "id": "b649b509-a31f-440c-955d-5e1bf5315774",
   "metadata": {},
   "outputs": [
    {
     "name": "stdout",
     "output_type": "stream",
     "text": [
      "            Stock_Price  Stock_Price_Filled  Stock_Price_Interpolated  Lag_1  \\\n",
      "Date                                                                           \n",
      "2024-01-01        100.0               100.0                     100.0    NaN   \n",
      "2024-01-02        102.0               102.0                     102.0  100.0   \n",
      "2024-01-03          NaN               102.0                     103.5  102.0   \n",
      "2024-01-04        105.0               105.0                     105.0  102.0   \n",
      "2024-01-05        107.0               107.0                     107.0  105.0   \n",
      "2024-01-06          NaN               107.0                     108.5  107.0   \n",
      "2024-01-07        110.0               110.0                     110.0  107.0   \n",
      "2024-01-08        112.0               112.0                     112.0  110.0   \n",
      "2024-01-09        113.0               113.0                     113.0  112.0   \n",
      "2024-01-10          NaN               113.0                     113.0  113.0   \n",
      "\n",
      "            Lag_2  Lag_3  Rolling_Mean_3  Rolling_Std_3  Differenced  \n",
      "Date                                                                  \n",
      "2024-01-01    NaN    NaN             NaN            NaN          NaN  \n",
      "2024-01-02    NaN    NaN             NaN            NaN          2.0  \n",
      "2024-01-03  100.0    NaN      101.333333       1.154701          0.0  \n",
      "2024-01-04  102.0  100.0      103.000000       1.732051          3.0  \n",
      "2024-01-05  102.0  102.0      104.666667       2.516611          2.0  \n",
      "2024-01-06  105.0  102.0      106.333333       1.154701          0.0  \n",
      "2024-01-07  107.0  105.0      108.000000       1.732051          3.0  \n",
      "2024-01-08  107.0  107.0      109.666667       2.516611          2.0  \n",
      "2024-01-09  110.0  107.0      111.666667       1.527525          1.0  \n",
      "2024-01-10  112.0  110.0      112.666667       0.577350          0.0  \n"
     ]
    }
   ],
   "source": [
    "df['Differenced'] = df['Stock_Price_Filled'].diff()\n",
    "print(df)"
   ]
  },
  {
   "cell_type": "markdown",
   "id": "c9175bdc-1edb-434a-aa37-a176fb75527d",
   "metadata": {},
   "source": [
    "# Scaling Time-Series Data"
   ]
  },
  {
   "cell_type": "code",
   "execution_count": 5,
   "id": "31fa165a-1d14-4a69-a9c0-cb65efb6a069",
   "metadata": {},
   "outputs": [
    {
     "name": "stdout",
     "output_type": "stream",
     "text": [
      "            Stock_Price  Stock_Price_Filled  Stock_Price_Interpolated  Lag_1  \\\n",
      "Date                                                                           \n",
      "2024-01-01        100.0               100.0                     100.0    NaN   \n",
      "2024-01-02        102.0               102.0                     102.0  100.0   \n",
      "2024-01-03          NaN               102.0                     103.5  102.0   \n",
      "2024-01-04        105.0               105.0                     105.0  102.0   \n",
      "2024-01-05        107.0               107.0                     107.0  105.0   \n",
      "2024-01-06          NaN               107.0                     108.5  107.0   \n",
      "2024-01-07        110.0               110.0                     110.0  107.0   \n",
      "2024-01-08        112.0               112.0                     112.0  110.0   \n",
      "2024-01-09        113.0               113.0                     113.0  112.0   \n",
      "2024-01-10          NaN               113.0                     113.0  113.0   \n",
      "\n",
      "            Lag_2  Lag_3  Rolling_Mean_3  Rolling_Std_3  Differenced  \\\n",
      "Date                                                                   \n",
      "2024-01-01    NaN    NaN             NaN            NaN          NaN   \n",
      "2024-01-02    NaN    NaN             NaN            NaN          2.0   \n",
      "2024-01-03  100.0    NaN      101.333333       1.154701          0.0   \n",
      "2024-01-04  102.0  100.0      103.000000       1.732051          3.0   \n",
      "2024-01-05  102.0  102.0      104.666667       2.516611          2.0   \n",
      "2024-01-06  105.0  102.0      106.333333       1.154701          0.0   \n",
      "2024-01-07  107.0  105.0      108.000000       1.732051          3.0   \n",
      "2024-01-08  107.0  107.0      109.666667       2.516611          2.0   \n",
      "2024-01-09  110.0  107.0      111.666667       1.527525          1.0   \n",
      "2024-01-10  112.0  110.0      112.666667       0.577350          0.0   \n",
      "\n",
      "            Scaled_MinMax  Scaled_Standard  \n",
      "Date                                        \n",
      "2024-01-01       0.000000        -1.553421  \n",
      "2024-01-02       0.153846        -1.115838  \n",
      "2024-01-03       0.153846        -1.115838  \n",
      "2024-01-04       0.384615        -0.459463  \n",
      "2024-01-05       0.538462        -0.021879  \n",
      "2024-01-06       0.538462        -0.021879  \n",
      "2024-01-07       0.769231         0.634496  \n",
      "2024-01-08       0.923077         1.072079  \n",
      "2024-01-09       1.000000         1.290871  \n",
      "2024-01-10       1.000000         1.290871  \n"
     ]
    }
   ],
   "source": [
    "from sklearn.preprocessing import MinMaxScaler, StandardScaler\n",
    "\n",
    "scaler_minmax = MinMaxScaler()\n",
    "df['Scaled_MinMax'] = scaler_minmax.fit_transform(df[['Stock_Price_Filled']])\n",
    "\n",
    "scaler_standard = StandardScaler()\n",
    "df['Scaled_Standard'] = scaler_standard.fit_transform(df[['Stock_Price_Filled']])\n",
    "print(df)"
   ]
  },
  {
   "cell_type": "markdown",
   "id": "52026def-a1ad-42a5-96da-54a61afcac32",
   "metadata": {},
   "source": [
    "# Creating Supervised Data"
   ]
  },
  {
   "cell_type": "code",
   "execution_count": 6,
   "id": "ae2ce0c2-43b1-4e90-87f1-ded659bb0d60",
   "metadata": {},
   "outputs": [
    {
     "name": "stdout",
     "output_type": "stream",
     "text": [
      "            Stock_Price  Stock_Price_Filled  Stock_Price_Interpolated  Lag_1  \\\n",
      "Date                                                                           \n",
      "2024-01-07        110.0               110.0                     110.0  107.0   \n",
      "2024-01-08        112.0               112.0                     112.0  110.0   \n",
      "2024-01-09        113.0               113.0                     113.0  112.0   \n",
      "\n",
      "            Lag_2  Lag_3  Rolling_Mean_3  Rolling_Std_3  Differenced  \\\n",
      "Date                                                                   \n",
      "2024-01-07  107.0  105.0      108.000000       1.732051          3.0   \n",
      "2024-01-08  107.0  107.0      109.666667       2.516611          2.0   \n",
      "2024-01-09  110.0  107.0      111.666667       1.527525          1.0   \n",
      "\n",
      "            Scaled_MinMax  Scaled_Standard  Lag_4  Lag_5  \n",
      "Date                                                      \n",
      "2024-01-07       0.769231         0.634496  102.0  102.0  \n",
      "2024-01-08       0.923077         1.072079  105.0  102.0  \n",
      "2024-01-09       1.000000         1.290871  107.0  105.0  \n"
     ]
    }
   ],
   "source": [
    "def create_supervised(df, target_col, n_lags=3):\n",
    "    supervised_df = df.copy()\n",
    "    for i in range(1, n_lags + 1):\n",
    "        supervised_df[f'Lag_{i}'] = df[target_col].shift(i)\n",
    "    supervised_df.dropna(inplace=True)\n",
    "    return supervised_df\n",
    "\n",
    "supervised_data = create_supervised(df, 'Stock_Price_Filled', n_lags=5)\n",
    "print(supervised_data)"
   ]
  },
  {
   "cell_type": "markdown",
   "id": "a6013782-526b-4749-a8b6-4b1f87a3bb54",
   "metadata": {},
   "source": [
    "# Adding Time-Based Features"
   ]
  },
  {
   "cell_type": "code",
   "execution_count": 7,
   "id": "b08a042b-e5db-460e-ada6-ef47c39d5c92",
   "metadata": {},
   "outputs": [
    {
     "name": "stdout",
     "output_type": "stream",
     "text": [
      "            Day_of_Week  Month  Year\n",
      "Date                                \n",
      "2024-01-01            0      1  2024\n",
      "2024-01-02            1      1  2024\n",
      "2024-01-03            2      1  2024\n",
      "2024-01-04            3      1  2024\n",
      "2024-01-05            4      1  2024\n",
      "2024-01-06            5      1  2024\n",
      "2024-01-07            6      1  2024\n",
      "2024-01-08            0      1  2024\n",
      "2024-01-09            1      1  2024\n",
      "2024-01-10            2      1  2024\n"
     ]
    }
   ],
   "source": [
    "df['Day_of_Week'] = df.index.dayofweek\n",
    "df['Month'] = df.index.month\n",
    "df['Year'] = df.index.year\n",
    "print(df[['Day_of_Week', 'Month', 'Year']])"
   ]
  },
  {
   "cell_type": "code",
   "execution_count": null,
   "id": "7854b31d-c2e7-4940-801c-c433177a943f",
   "metadata": {},
   "outputs": [],
   "source": []
  }
 ],
 "metadata": {
  "kernelspec": {
   "display_name": "base",
   "language": "python",
   "name": "python3"
  },
  "language_info": {
   "codemirror_mode": {
    "name": "ipython",
    "version": 3
   },
   "file_extension": ".py",
   "mimetype": "text/x-python",
   "name": "python",
   "nbconvert_exporter": "python",
   "pygments_lexer": "ipython3",
   "version": "3.11.7"
  }
 },
 "nbformat": 4,
 "nbformat_minor": 5
}
