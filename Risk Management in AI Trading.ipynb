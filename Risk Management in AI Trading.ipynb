{
 "cells": [
  {
   "cell_type": "markdown",
   "id": "92793e56-077f-49b9-bf13-a2c4ea1d3635",
   "metadata": {},
   "source": [
    "# Implementing Risk Management with Python"
   ]
  },
  {
   "cell_type": "code",
   "execution_count": 16,
   "id": "3db3d455-960b-4d4f-bd81-63c6d0fd0568",
   "metadata": {},
   "outputs": [
    {
     "name": "stderr",
     "output_type": "stream",
     "text": [
      "[*********************100%***********************]  1 of 1 completed"
     ]
    },
    {
     "name": "stdout",
     "output_type": "stream",
     "text": [
      "Value at Risk (95%): -3.01%\n",
      "Maximum Drawdown: -31.43%\n"
     ]
    },
    {
     "name": "stderr",
     "output_type": "stream",
     "text": [
      "\n"
     ]
    }
   ],
   "source": [
    "import numpy as np\n",
    "import pandas as pd\n",
    "import yfinance as yf\n",
    "\n",
    "symbol = 'AAPL'\n",
    "data = yf.download(symbol, start='2020-01-01', end='2025-01-01')\n",
    "data['Returns'] = data['Close'].pct_change()\n",
    "data.dropna(inplace=True)\n",
    "\n",
    "# Calculating VaR\n",
    "var_95 = np.percentile(data['Returns'], 5)\n",
    "print(f\"Value at Risk (95%): {var_95:.2%}\")\n",
    "\n",
    "# Calculating Maximum Drawdown\n",
    "def max_drawdown(returns):\n",
    "    cumulative = (1 + returns).cumprod()\n",
    "    peak = cumulative.expanding(min_periods=1).max()\n",
    "    drawdown = (cumulative - peak) / peak\n",
    "    return drawdown.min()\n",
    "\n",
    "mdd = max_drawdown(data['Returns'])\n",
    "print(f\"Maximum Drawdown: {mdd:.2%}\")"
   ]
  }
 ],
 "metadata": {
  "kernelspec": {
   "display_name": "Python (TensorFlow)",
   "language": "python",
   "name": "tensorflow-env"
  },
  "language_info": {
   "codemirror_mode": {
    "name": "ipython",
    "version": 3
   },
   "file_extension": ".py",
   "mimetype": "text/x-python",
   "name": "python",
   "nbconvert_exporter": "python",
   "pygments_lexer": "ipython3",
   "version": "3.10.16"
  }
 },
 "nbformat": 4,
 "nbformat_minor": 5
}
