{
 "cells": [
  {
   "cell_type": "markdown",
   "id": "42c46b8b-76e8-4110-9fc6-6b138aacf50f",
   "metadata": {},
   "source": [
    "# Normalizing Multiple Features"
   ]
  },
  {
   "cell_type": "code",
   "execution_count": 1,
   "id": "74df2d56-b4fa-41f7-af90-4bfbb848ae79",
   "metadata": {},
   "outputs": [
    {
     "name": "stdout",
     "output_type": "stream",
     "text": [
      "YF.download() has changed argument auto_adjust default to True\n"
     ]
    },
    {
     "name": "stderr",
     "output_type": "stream",
     "text": [
      "[*********************100%***********************]  5 of 5 completed\n"
     ]
    },
    {
     "name": "stdout",
     "output_type": "stream",
     "text": [
      "Available columns: MultiIndex([( 'Close',  'AAPL'),\n",
      "            ( 'Close',  'AMZN'),\n",
      "            ( 'Close', 'GOOGL'),\n",
      "            ( 'Close',  'MSFT'),\n",
      "            ( 'Close',  'TSLA'),\n",
      "            (  'High',  'AAPL'),\n",
      "            (  'High',  'AMZN'),\n",
      "            (  'High', 'GOOGL'),\n",
      "            (  'High',  'MSFT'),\n",
      "            (  'High',  'TSLA'),\n",
      "            (   'Low',  'AAPL'),\n",
      "            (   'Low',  'AMZN'),\n",
      "            (   'Low', 'GOOGL'),\n",
      "            (   'Low',  'MSFT'),\n",
      "            (   'Low',  'TSLA'),\n",
      "            (  'Open',  'AAPL'),\n",
      "            (  'Open',  'AMZN'),\n",
      "            (  'Open', 'GOOGL'),\n",
      "            (  'Open',  'MSFT'),\n",
      "            (  'Open',  'TSLA'),\n",
      "            ('Volume',  'AAPL'),\n",
      "            ('Volume',  'AMZN'),\n",
      "            ('Volume', 'GOOGL'),\n",
      "            ('Volume',  'MSFT'),\n",
      "            ('Volume',  'TSLA')],\n",
      "           names=['Price', 'Ticker'])\n",
      "            Stock_Price  Trading_Volume  Market_Cap\n",
      "Date                                               \n",
      "2025-02-18     0.945172        0.171713         0.0\n",
      "2025-02-19     1.000000        0.077893         0.0\n",
      "2025-02-20     0.969548        0.000000         0.0\n",
      "2025-02-21     0.822798        0.375722         0.0\n",
      "2025-02-24     0.764865        0.298051         0.0\n"
     ]
    }
   ],
   "source": [
    "import pandas as pd\n",
    "import yfinance as yf\n",
    "from sklearn.preprocessing import MinMaxScaler\n",
    "\n",
    "# Define stock tickers\n",
    "tickers = [\"AAPL\", \"MSFT\", \"GOOGL\", \"AMZN\", \"TSLA\"]\n",
    "\n",
    "# Fetch stock data\n",
    "stock_data = yf.download(tickers, period=\"1mo\", interval=\"1d\")\n",
    "\n",
    "# Debug: Print available columns to verify structure\n",
    "print(\"Available columns:\", stock_data.columns)\n",
    "\n",
    "# Extract 'Close' prices and 'Volume' using .xs() for MultiIndex columns\n",
    "closing_prices = stock_data.xs(\"Close\", axis=1, level=0)  # Extract \"Close\" price for all stocks\n",
    "trading_volumes = stock_data.xs(\"Volume\", axis=1, level=0)  # Extract \"Volume\" data\n",
    "\n",
    "# Drop NaN values\n",
    "closing_prices = closing_prices.dropna()\n",
    "trading_volumes = trading_volumes.dropna()\n",
    "\n",
    "# Fetch market capitalization\n",
    "market_caps = {}\n",
    "for ticker in tickers:\n",
    "    stock = yf.Ticker(ticker)\n",
    "    market_caps[ticker] = stock.info.get(\"marketCap\", None)  # Fetch market cap\n",
    "\n",
    "# Convert Market Cap to a DataFrame (Repeat last available value for missing dates)\n",
    "market_cap_df = pd.DataFrame({ticker: [market_caps[ticker]] * len(closing_prices) for ticker in tickers}, \n",
    "                             index=closing_prices.index)\n",
    "\n",
    "# Combine all data\n",
    "df = pd.DataFrame()\n",
    "df[\"Stock_Price\"] = closing_prices.mean(axis=1)  # Average stock price across selected stocks\n",
    "df[\"Trading_Volume\"] = trading_volumes.mean(axis=1)  # Average trading volume\n",
    "df[\"Market_Cap\"] = market_cap_df.mean(axis=1)  # Average market capitalization\n",
    "\n",
    "# Normalize data\n",
    "scaler = MinMaxScaler()\n",
    "df_normalized = pd.DataFrame(scaler.fit_transform(df), columns=df.columns, index=df.index)\n",
    "\n",
    "# Save to CSV or print the data\n",
    "df_normalized.to_csv(\"normalized_financial_data.csv\")  # Save to CSV file\n",
    "print(df_normalized.head())  # Print first few rows\n"
   ]
  },
  {
   "cell_type": "markdown",
   "id": "0d934c51-bc46-4151-95ac-fd6ec70ce733",
   "metadata": {},
   "source": [
    "# Decimal Scaling"
   ]
  },
  {
   "cell_type": "code",
   "execution_count": 2,
   "id": "9f7a405d-c904-4423-b2ea-4a5aa153a95b",
   "metadata": {},
   "outputs": [
    {
     "name": "stdout",
     "output_type": "stream",
     "text": [
      "            Decimal_Normalized_Price  Decimal_Normalized_Volume  \\\n",
      "Date                                                              \n",
      "2025-02-18                  0.283522                   0.389538   \n",
      "2025-02-19                  0.286211                   0.343058   \n",
      "2025-02-20                  0.284718                   0.304468   \n",
      "2025-02-21                  0.277519                   0.490608   \n",
      "2025-02-24                  0.274677                   0.452128   \n",
      "2025-02-25                  0.267152                   0.625002   \n",
      "2025-02-26                  0.263554                   0.477446   \n",
      "2025-02-27                  0.257765                   0.489138   \n",
      "2025-02-28                  0.262835                   0.610557   \n",
      "2025-03-03                  0.256602                   0.538924   \n",
      "2025-03-04                  0.254221                   0.632177   \n",
      "2025-03-05                  0.259408                   0.468537   \n",
      "2025-03-06                  0.253704                   0.490185   \n",
      "2025-03-07                  0.253592                   0.515732   \n",
      "2025-03-10                  0.238040                   0.799886   \n",
      "2025-03-11                  0.238500                   0.750009   \n",
      "2025-03-12                  0.242868                   0.602137   \n",
      "2025-03-13                  0.237156                   0.539364   \n",
      "2025-03-14                  0.243094                   0.500791   \n",
      "2025-03-17                  0.240148                   0.520654   \n",
      "\n",
      "            Decimal_Normalized_Market_Cap  \n",
      "Date                                       \n",
      "2025-02-18                        0.21919  \n",
      "2025-02-19                        0.21919  \n",
      "2025-02-20                        0.21919  \n",
      "2025-02-21                        0.21919  \n",
      "2025-02-24                        0.21919  \n",
      "2025-02-25                        0.21919  \n",
      "2025-02-26                        0.21919  \n",
      "2025-02-27                        0.21919  \n",
      "2025-02-28                        0.21919  \n",
      "2025-03-03                        0.21919  \n",
      "2025-03-04                        0.21919  \n",
      "2025-03-05                        0.21919  \n",
      "2025-03-06                        0.21919  \n",
      "2025-03-07                        0.21919  \n",
      "2025-03-10                        0.21919  \n",
      "2025-03-11                        0.21919  \n",
      "2025-03-12                        0.21919  \n",
      "2025-03-13                        0.21919  \n",
      "2025-03-14                        0.21919  \n",
      "2025-03-17                        0.21919  \n"
     ]
    }
   ],
   "source": [
    "import numpy as np\n",
    "\n",
    "def decimal_scaling(series):\n",
    "    max_abs = series.abs().max()\n",
    "    scale_factor = 10 ** np.ceil(np.log10(max_abs))\n",
    "    return series / scale_factor\n",
    "\n",
    "df['Decimal_Normalized_Price'] = decimal_scaling(df['Stock_Price'])\n",
    "df['Decimal_Normalized_Volume'] = decimal_scaling(df['Trading_Volume'])\n",
    "df['Decimal_Normalized_Market_Cap'] = decimal_scaling(df['Market_Cap'])\n",
    "print(df[['Decimal_Normalized_Price', 'Decimal_Normalized_Volume', 'Decimal_Normalized_Market_Cap']])"
   ]
  },
  {
   "cell_type": "markdown",
   "id": "cbba8035-cabb-43af-9a9c-5d787116a7df",
   "metadata": {},
   "source": [
    "#  Normalizing OHLC Data for Stock Price Prediction"
   ]
  },
  {
   "cell_type": "code",
   "execution_count": 3,
   "id": "37ce5151-6f4c-4ee5-b3d9-1360c1804945",
   "metadata": {},
   "outputs": [
    {
     "name": "stderr",
     "output_type": "stream",
     "text": [
      "[*********************100%***********************]  1 of 1 completed"
     ]
    },
    {
     "name": "stdout",
     "output_type": "stream",
     "text": [
      "Price           Open      High       Low     Close    Volume\n",
      "Ticker          GOOG      GOOG      GOOG      GOOG      GOOG\n",
      "Date                                                        \n",
      "2024-01-02  0.103153  0.094771  0.094006  0.105561  0.250615\n",
      "2024-01-03  0.088116  0.101597  0.104485  0.117626  0.229874\n",
      "2024-01-04  0.106912  0.095058  0.098107  0.082639  0.216249\n",
      "2024-01-05  0.084387  0.068833  0.080490  0.072837  0.162957\n",
      "2024-01-08  0.079094  0.095130  0.096132  0.120189  0.204759\n",
      "Price           Open      High       Low     Close    Volume\n",
      "Ticker          GOOG      GOOG      GOOG      GOOG      GOOG\n",
      "Date                                                        \n",
      "2024-01-02  0.103153  0.094771  0.094006  0.105561  0.250615\n",
      "2024-01-03  0.088116  0.101597  0.104485  0.117626  0.229874\n",
      "2024-01-04  0.106912  0.095058  0.098107  0.082639  0.216249\n",
      "2024-01-05  0.084387  0.068833  0.080490  0.072837  0.162957\n",
      "2024-01-08  0.079094  0.095130  0.096132  0.120189  0.204759\n"
     ]
    },
    {
     "name": "stderr",
     "output_type": "stream",
     "text": [
      "\n"
     ]
    }
   ],
   "source": [
    "import yfinance as yf\n",
    "from sklearn.preprocessing import MinMaxScaler\n",
    "\n",
    "# Download stock data\n",
    "stock_data = yf.download('GOOG', start='2024-01-01', end='2025-01-01')[['Open', 'High', 'Low', 'Close', 'Volume']]\n",
    "\n",
    "# Apply Min-Max Scaling to all numerical columns\n",
    "scaler = MinMaxScaler()\n",
    "normalized_data = pd.DataFrame(scaler.fit_transform(stock_data), columns=stock_data.columns, index=stock_data.index)\n",
    "\n",
    "print(normalized_data.head())\n",
    "print(normalized_data.head())"
   ]
  },
  {
   "cell_type": "markdown",
   "id": "83c859f2-e987-4772-8e5d-ec00c8db949a",
   "metadata": {},
   "source": [
    "# Normalizing Rolling Windows for Time-Series Forecasting"
   ]
  },
  {
   "cell_type": "code",
   "execution_count": 4,
   "id": "a002c94c-e682-490a-98b1-bc625d31861e",
   "metadata": {},
   "outputs": [
    {
     "name": "stderr",
     "output_type": "stream",
     "text": [
      "[*********************100%***********************]  1 of 1 completed"
     ]
    },
    {
     "name": "stdout",
     "output_type": "stream",
     "text": [
      "Window 0 to 30 -> Assigned: 0.8220390279901704\n",
      "Window 1 to 31 -> Assigned: 0.5686275523497955\n",
      "Window 2 to 32 -> Assigned: 0.28532758171448336\n",
      "Window 3 to 33 -> Assigned: 0.0824878922357275\n",
      "Window 4 to 34 -> Assigned: 0.021634744630604885\n",
      "Window 5 to 35 -> Assigned: 0.11899833324372189\n",
      "Window 6 to 36 -> Assigned: 0.069640840905425\n",
      "Window 7 to 37 -> Assigned: 0.3914798975958167\n",
      "Window 8 to 38 -> Assigned: 0.37320451471749827\n",
      "Window 9 to 39 -> Assigned: 0.18841687104765725\n",
      "Window 10 to 40 -> Assigned: 0.18841687104765725\n",
      "Window 11 to 41 -> Assigned: 0.248658943615661\n",
      "Window 12 to 42 -> Assigned: 0.45849135809617536\n",
      "Window 13 to 43 -> Assigned: 0.24053609168400314\n",
      "Window 14 to 44 -> Assigned: 0.43267978829537235\n",
      "Window 15 to 45 -> Assigned: 0.4506670724902353\n",
      "Window 16 to 46 -> Assigned: 0.5004798018228254\n",
      "Window 17 to 47 -> Assigned: 0.46727202015590485\n",
      "Window 18 to 48 -> Assigned: 0.5606706234464571\n",
      "Window 19 to 49 -> Assigned: 0.7682240146096486\n",
      "Price            Close Rolling_Normalized_Close\n",
      "Ticker            AAPL                         \n",
      "Date                                           \n",
      "2024-09-18  220.205353               220.205353\n",
      "2024-09-19  228.367386               228.367386\n",
      "2024-09-20  227.698853               227.698853\n",
      "2024-09-23  225.972656               225.972656\n",
      "2024-09-24  226.870682               226.870682\n"
     ]
    },
    {
     "name": "stderr",
     "output_type": "stream",
     "text": [
      "\n"
     ]
    }
   ],
   "source": [
    "import pandas as pd\n",
    "import yfinance as yf\n",
    "from sklearn.preprocessing import MinMaxScaler\n",
    "\n",
    "# Define stock tickers\n",
    "tickers = [\"AAPL\"]  # Single ticker to avoid MultiIndex issues\n",
    "\n",
    "# Fetch stock data\n",
    "stock_data = yf.download(tickers, period=\"6mo\", interval=\"1d\")\n",
    "\n",
    "# Extract 'Close' correctly\n",
    "if isinstance(stock_data.columns, pd.MultiIndex):  \n",
    "    close_prices = stock_data.xs(\"Close\", level=0, axis=1)  # Extract Close prices for all tickers\n",
    "else:\n",
    "    close_prices = stock_data[\"Close\"]  # Direct access if only one ticker\n",
    "\n",
    "# Define rolling window size\n",
    "window_size = 30\n",
    "scaler = MinMaxScaler()\n",
    "\n",
    "# Function to normalize each rolling window with condensed output\n",
    "def rolling_minmax_norm(series, window, max_outputs=20):\n",
    "    normalized_values = series.copy()\n",
    "    count = 0  # Count displayed outputs\n",
    "    \n",
    "    for i in range(window, len(series)):  \n",
    "        window_data = series.iloc[i - window:i].values.reshape(-1, 1)  # Extract rolling window\n",
    "        scaled_window = scaler.fit_transform(window_data).flatten()  # Scale the entire window\n",
    "        normalized_value = scaled_window[-1]  # Store only the last value\n",
    "        \n",
    "        # Print debugging info for a limited number of outputs\n",
    "        if count < max_outputs:\n",
    "            print(f\"Window {i-window} to {i} -> Assigned: {normalized_value}\")\n",
    "            count += 1\n",
    "        \n",
    "        normalized_values.iloc[i] = normalized_value  # Assign normalized value\n",
    "\n",
    "    return normalized_values\n",
    "\n",
    "# Apply rolling normalization\n",
    "stock_data[\"Rolling_Normalized_Close\"] = rolling_minmax_norm(close_prices, window_size, max_outputs=20)\n",
    "\n",
    "# Drop NaNs (first 30 days will be NaN) and display first 5 rows\n",
    "print(stock_data[['Close', 'Rolling_Normalized_Close']].dropna().head())\n"
   ]
  },
  {
   "cell_type": "code",
   "execution_count": null,
   "id": "cbe8e515-74b8-4c84-9647-9880c13f0755",
   "metadata": {},
   "outputs": [],
   "source": []
  }
 ],
 "metadata": {
  "kernelspec": {
   "display_name": "base",
   "language": "python",
   "name": "python3"
  },
  "language_info": {
   "codemirror_mode": {
    "name": "ipython",
    "version": 3
   },
   "file_extension": ".py",
   "mimetype": "text/x-python",
   "name": "python",
   "nbconvert_exporter": "python",
   "pygments_lexer": "ipython3",
   "version": "3.11.7"
  }
 },
 "nbformat": 4,
 "nbformat_minor": 5
}
