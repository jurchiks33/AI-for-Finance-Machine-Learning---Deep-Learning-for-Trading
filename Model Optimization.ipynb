{
 "cells": [
  {
   "cell_type": "markdown",
   "id": "01fa561b-9fef-431b-8c7d-ba17d4e45338",
   "metadata": {},
   "source": [
    "#  Data Acquisition and Feature Engineering"
   ]
  },
  {
   "cell_type": "code",
   "execution_count": 15,
   "id": "3d502f74-4050-4ea1-8d45-47f08946de60",
   "metadata": {},
   "outputs": [
    {
     "name": "stderr",
     "output_type": "stream",
     "text": [
      "[*********************100%***********************]  1 of 1 completed"
     ]
    },
    {
     "name": "stdout",
     "output_type": "stream",
     "text": [
      "Available columns: MultiIndex([( 'Close', 'AAPL'),\n",
      "            (  'High', 'AAPL'),\n",
      "            (   'Low', 'AAPL'),\n",
      "            (  'Open', 'AAPL'),\n",
      "            ('Volume', 'AAPL')],\n",
      "           names=['Price', 'Ticker'])\n",
      "Warning: 'Adj Close' not found. Using 'Close' instead.\n",
      "Price            Close        High         Low        Open    Volume  \\\n",
      "Ticker            AAPL        AAPL        AAPL        AAPL      AAPL   \n",
      "Date                                                                   \n",
      "2025-03-25  223.750000  224.100006  220.080002  220.770004  34493600   \n",
      "2025-03-26  221.529999  225.020004  220.470001  223.509995  34466100   \n",
      "2025-03-27  223.850006  224.990005  220.559998  221.389999  37094800   \n",
      "2025-03-28  217.899994  223.809998  217.679993  221.669998  39818600   \n",
      "2025-03-31  222.130005  225.619995  216.229996  217.009995  65299300   \n",
      "\n",
      "Price         Return        MA20 Volatility    Trend  \n",
      "Ticker                                                \n",
      "Date                                                  \n",
      "2025-03-25  0.013682  225.542500   0.019558  bullish  \n",
      "2025-03-26 -0.009922  224.601000   0.018895  bearish  \n",
      "2025-03-27  0.010473  223.928500   0.019036  bullish  \n",
      "2025-03-28 -0.026580  222.731500   0.019016  bearish  \n",
      "2025-03-31  0.019413  221.936501   0.019589  bullish  \n"
     ]
    },
    {
     "name": "stderr",
     "output_type": "stream",
     "text": [
      "\n"
     ]
    }
   ],
   "source": [
    "# Import libraries for data handling and stock data retrieval\n",
    "import yfinance as yf\n",
    "import pandas as pd\n",
    "import numpy as np\n",
    "\n",
    "# Download historical stock data for Apple Inc.\n",
    "ticker = \"AAPL\"\n",
    "data = yf.download(ticker, start=\"2020-01-01\", end=\"2025-04-01\")\n",
    "\n",
    "# Print available columns to help diagnose the structure\n",
    "print(\"Available columns:\", data.columns)\n",
    "\n",
    "# Use 'Adj Close' if available; otherwise, fall back to 'Close'\n",
    "price_col = 'Adj Close' if 'Adj Close' in data.columns else 'Close'\n",
    "if price_col == 'Close':\n",
    "    print(\"Warning: 'Adj Close' not found. Using 'Close' instead.\")\n",
    "\n",
    "# Feature Engineering:\n",
    "# Calculate daily returns\n",
    "data['Return'] = data[price_col].pct_change()\n",
    "\n",
    "# Compute a 20-day moving average and 20-day volatility\n",
    "data['MA20'] = data[price_col].rolling(window=20).mean()\n",
    "data['Volatility'] = data['Return'].rolling(window=20).std()\n",
    "\n",
    "# Drop any rows with missing values due to rolling calculations\n",
    "data.dropna(inplace=True)\n",
    "\n",
    "# Define the target: bullish if daily return > 0, bearish otherwise\n",
    "data['Trend'] = np.where(data['Return'] > 0, 'bullish', 'bearish')\n",
    "\n",
    "# Display the first few rows of the dataset\n",
    "print(data.tail())\n"
   ]
  },
  {
   "cell_type": "markdown",
   "id": "319c17d3-1b32-4f57-a855-0363d7219a54",
   "metadata": {},
   "source": [
    "# Baseline Model Creation"
   ]
  },
  {
   "cell_type": "code",
   "execution_count": 18,
   "id": "80269ff7-bfbe-4964-8c3a-ac8769dbe576",
   "metadata": {},
   "outputs": [
    {
     "name": "stdout",
     "output_type": "stream",
     "text": [
      "Baseline Model Accuracy: 0.48\n",
      "Baseline Classification Report:\n",
      "               precision    recall  f1-score   support\n",
      "\n",
      "     bearish       0.44      0.48      0.46       148\n",
      "     bullish       0.52      0.48      0.50       177\n",
      "\n",
      "    accuracy                           0.48       325\n",
      "   macro avg       0.48      0.48      0.48       325\n",
      "weighted avg       0.48      0.48      0.48       325\n",
      "\n"
     ]
    }
   ],
   "source": [
    "from sklearn.ensemble import RandomForestClassifier\n",
    "from sklearn.model_selection import train_test_split\n",
    "from sklearn.metrics import accuracy_score, classification_report\n",
    "\n",
    "# Define features and target variable\n",
    "features = ['MA20', 'Volatility']\n",
    "X = data[features]\n",
    "y = data['Trend']\n",
    "\n",
    "# Split the dataset into training and testing sets\n",
    "X_train, X_test, y_train, y_test = train_test_split(X, y, test_size=0.25, random_state=42)\n",
    "\n",
    "# Initialize and train the baseline Random Forest model\n",
    "baseline_model = RandomForestClassifier(n_estimators=100, random_state=42)\n",
    "baseline_model.fit(X_train, y_train)\n",
    "\n",
    "# Make predictions and evaluate the baseline model\n",
    "baseline_predictions = baseline_model.predict(X_test)\n",
    "print(\"Baseline Model Accuracy:\", accuracy_score(y_test, baseline_predictions))\n",
    "print(\"Baseline Classification Report:\\n\", classification_report(y_test, baseline_predictions))\n"
   ]
  },
  {
   "cell_type": "markdown",
   "id": "d7dd18a9-10b0-4f21-94cf-6cc80f897837",
   "metadata": {},
   "source": [
    "# Pipeline with Feature Scaling"
   ]
  },
  {
   "cell_type": "code",
   "execution_count": 21,
   "id": "f45ea10b-bc58-4767-9310-4870e8510cfe",
   "metadata": {},
   "outputs": [
    {
     "name": "stdout",
     "output_type": "stream",
     "text": [
      "Pipeline Model Accuracy: 0.48\n",
      "Pipeline Classification Report:\n",
      "               precision    recall  f1-score   support\n",
      "\n",
      "     bearish       0.44      0.48      0.46       148\n",
      "     bullish       0.52      0.48      0.50       177\n",
      "\n",
      "    accuracy                           0.48       325\n",
      "   macro avg       0.48      0.48      0.48       325\n",
      "weighted avg       0.48      0.48      0.48       325\n",
      "\n"
     ]
    }
   ],
   "source": [
    "from sklearn.pipeline import Pipeline\n",
    "from sklearn.preprocessing import StandardScaler\n",
    "\n",
    "# Create a pipeline that scales the features and then applies the Random Forest classifier\n",
    "pipeline = Pipeline([\n",
    "    ('scaler', StandardScaler()),\n",
    "    ('classifier', RandomForestClassifier(n_estimators=100, random_state=42))\n",
    "])\n",
    "\n",
    "# Train the pipeline on the training data\n",
    "pipeline.fit(X_train, y_train)\n",
    "\n",
    "# Make predictions using the pipeline and evaluate\n",
    "pipeline_predictions = pipeline.predict(X_test)\n",
    "print(\"Pipeline Model Accuracy:\", accuracy_score(y_test, pipeline_predictions))\n",
    "print(\"Pipeline Classification Report:\\n\", classification_report(y_test, pipeline_predictions))\n"
   ]
  },
  {
   "cell_type": "markdown",
   "id": "0f9728f2-f7aa-44bd-a7d3-d61c1b88e465",
   "metadata": {},
   "source": [
    "# Hyperparameter Tuning"
   ]
  },
  {
   "cell_type": "code",
   "execution_count": 23,
   "id": "e4561173-e4db-4162-ab65-2d887d1de986",
   "metadata": {},
   "outputs": [
    {
     "name": "stdout",
     "output_type": "stream",
     "text": [
      "Best Hyperparameters: {'classifier__max_depth': None, 'classifier__min_samples_leaf': 4, 'classifier__min_samples_split': 2, 'classifier__n_estimators': 200}\n",
      "Optimized Model Accuracy: 0.5076923076923077\n",
      "Optimized Classification Report:\n",
      "               precision    recall  f1-score   support\n",
      "\n",
      "     bearish       0.46      0.48      0.47       148\n",
      "     bullish       0.55      0.53      0.54       177\n",
      "\n",
      "    accuracy                           0.51       325\n",
      "   macro avg       0.51      0.51      0.51       325\n",
      "weighted avg       0.51      0.51      0.51       325\n",
      "\n"
     ]
    }
   ],
   "source": [
    "from sklearn.model_selection import GridSearchCV\n",
    "from sklearn.metrics import make_scorer\n",
    "\n",
    "# Define a parameter grid for hyperparameter tuning\n",
    "param_grid = {\n",
    "    'classifier__n_estimators': [100, 200, 300],\n",
    "    'classifier__max_depth': [None, 10, 20, 30],\n",
    "    'classifier__min_samples_split': [2, 5, 10],\n",
    "    'classifier__min_samples_leaf': [1, 2, 4]\n",
    "}\n",
    "\n",
    "# Setup GridSearchCV using the pipeline with cross-validation\n",
    "grid_search = GridSearchCV(\n",
    "    estimator=pipeline,\n",
    "    param_grid=param_grid,\n",
    "    cv=5,\n",
    "    scoring=make_scorer(accuracy_score),\n",
    "    n_jobs=-1\n",
    ")\n",
    "grid_search.fit(X_train, y_train)\n",
    "\n",
    "# Retrieve and display the best parameters\n",
    "best_params = grid_search.best_params_\n",
    "print(\"Best Hyperparameters:\", best_params)\n",
    "\n",
    "# Evaluate the optimized model on the test set\n",
    "optimized_model = grid_search.best_estimator_\n",
    "optimized_predictions = optimized_model.predict(X_test)\n",
    "print(\"Optimized Model Accuracy:\", accuracy_score(y_test, optimized_predictions))\n",
    "print(\"Optimized Classification Report:\\n\", classification_report(y_test, optimized_predictions))\n"
   ]
  },
  {
   "cell_type": "code",
   "execution_count": null,
   "id": "ebdc70f8-10e3-4d47-a0f5-5146f3f360e8",
   "metadata": {},
   "outputs": [],
   "source": []
  }
 ],
 "metadata": {
  "kernelspec": {
   "display_name": "Python (TensorFlow)",
   "language": "python",
   "name": "tensorflow-env"
  },
  "language_info": {
   "codemirror_mode": {
    "name": "ipython",
    "version": 3
   },
   "file_extension": ".py",
   "mimetype": "text/x-python",
   "name": "python",
   "nbconvert_exporter": "python",
   "pygments_lexer": "ipython3",
   "version": "3.10.16"
  }
 },
 "nbformat": 4,
 "nbformat_minor": 5
}
